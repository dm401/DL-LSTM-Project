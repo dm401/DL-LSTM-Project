{
  "nbformat": 4,
  "nbformat_minor": 0,
  "metadata": {
    "colab": {
      "provenance": []
    },
    "kernelspec": {
      "name": "python3",
      "display_name": "Python 3"
    },
    "language_info": {
      "name": "python"
    },
    "accelerator": "GPU",
    "gpuClass": "standard"
  },
  "cells": [
    {
      "cell_type": "markdown",
      "source": [
        "The codebase is largely based off of Fares Sayah's Kaggle post on LSTM for stock prediction: https://www.kaggle.com/code/faressayah/stock-market-analysis-prediction-using-lstm"
      ],
      "metadata": {
        "id": "u7ImUpoGJmfh"
      }
    },
    {
      "cell_type": "markdown",
      "source": [
        "## Data setup"
      ],
      "metadata": {
        "id": "fVuvShahK4WB"
      }
    },
    {
      "cell_type": "markdown",
      "source": [
        "Get the data, show last few samples:"
      ],
      "metadata": {
        "id": "D9HwQS9_JxdT"
      }
    },
    {
      "cell_type": "code",
      "source": [
        "!pip install yfinance"
      ],
      "metadata": {
        "colab": {
          "base_uri": "https://localhost:8080/"
        },
        "id": "HhCDUvkyJ_4Z",
        "outputId": "dd148173-48fc-48d2-c5da-81a58d55325e"
      },
      "execution_count": 1,
      "outputs": [
        {
          "output_type": "stream",
          "name": "stdout",
          "text": [
            "Looking in indexes: https://pypi.org/simple, https://us-python.pkg.dev/colab-wheels/public/simple/\n",
            "Collecting yfinance\n",
            "  Downloading yfinance-0.2.3-py2.py3-none-any.whl (50 kB)\n",
            "\u001b[K     |████████████████████████████████| 50 kB 3.1 MB/s \n",
            "\u001b[?25hRequirement already satisfied: pandas>=1.3.0 in /usr/local/lib/python3.8/dist-packages (from yfinance) (1.3.5)\n",
            "Collecting html5lib>=1.1\n",
            "  Downloading html5lib-1.1-py2.py3-none-any.whl (112 kB)\n",
            "\u001b[K     |████████████████████████████████| 112 kB 31.3 MB/s \n",
            "\u001b[?25hRequirement already satisfied: appdirs>=1.4.4 in /usr/local/lib/python3.8/dist-packages (from yfinance) (1.4.4)\n",
            "Requirement already satisfied: pytz>=2022.5 in /usr/local/lib/python3.8/dist-packages (from yfinance) (2022.6)\n",
            "Collecting frozendict>=2.3.4\n",
            "  Downloading frozendict-2.3.4-cp38-cp38-manylinux_2_17_x86_64.manylinux2014_x86_64.whl (110 kB)\n",
            "\u001b[K     |████████████████████████████████| 110 kB 13.1 MB/s \n",
            "\u001b[?25hCollecting beautifulsoup4>=4.11.1\n",
            "  Downloading beautifulsoup4-4.11.1-py3-none-any.whl (128 kB)\n",
            "\u001b[K     |████████████████████████████████| 128 kB 71.3 MB/s \n",
            "\u001b[?25hRequirement already satisfied: multitasking>=0.0.7 in /usr/local/lib/python3.8/dist-packages (from yfinance) (0.0.11)\n",
            "Collecting requests>=2.26\n",
            "  Downloading requests-2.28.1-py3-none-any.whl (62 kB)\n",
            "\u001b[K     |████████████████████████████████| 62 kB 873 kB/s \n",
            "\u001b[?25hCollecting cryptography>=3.3.2\n",
            "  Downloading cryptography-38.0.4-cp36-abi3-manylinux_2_24_x86_64.whl (4.0 MB)\n",
            "\u001b[K     |████████████████████████████████| 4.0 MB 11.7 MB/s \n",
            "\u001b[?25hRequirement already satisfied: lxml>=4.9.1 in /usr/local/lib/python3.8/dist-packages (from yfinance) (4.9.2)\n",
            "Requirement already satisfied: numpy>=1.16.5 in /usr/local/lib/python3.8/dist-packages (from yfinance) (1.21.6)\n",
            "Collecting soupsieve>1.2\n",
            "  Downloading soupsieve-2.3.2.post1-py3-none-any.whl (37 kB)\n",
            "Requirement already satisfied: cffi>=1.12 in /usr/local/lib/python3.8/dist-packages (from cryptography>=3.3.2->yfinance) (1.15.1)\n",
            "Requirement already satisfied: pycparser in /usr/local/lib/python3.8/dist-packages (from cffi>=1.12->cryptography>=3.3.2->yfinance) (2.21)\n",
            "Requirement already satisfied: webencodings in /usr/local/lib/python3.8/dist-packages (from html5lib>=1.1->yfinance) (0.5.1)\n",
            "Requirement already satisfied: six>=1.9 in /usr/local/lib/python3.8/dist-packages (from html5lib>=1.1->yfinance) (1.15.0)\n",
            "Requirement already satisfied: python-dateutil>=2.7.3 in /usr/local/lib/python3.8/dist-packages (from pandas>=1.3.0->yfinance) (2.8.2)\n",
            "Requirement already satisfied: charset-normalizer<3,>=2 in /usr/local/lib/python3.8/dist-packages (from requests>=2.26->yfinance) (2.1.1)\n",
            "Requirement already satisfied: certifi>=2017.4.17 in /usr/local/lib/python3.8/dist-packages (from requests>=2.26->yfinance) (2022.12.7)\n",
            "Requirement already satisfied: urllib3<1.27,>=1.21.1 in /usr/local/lib/python3.8/dist-packages (from requests>=2.26->yfinance) (1.24.3)\n",
            "Requirement already satisfied: idna<4,>=2.5 in /usr/local/lib/python3.8/dist-packages (from requests>=2.26->yfinance) (2.10)\n",
            "Installing collected packages: soupsieve, requests, html5lib, frozendict, cryptography, beautifulsoup4, yfinance\n",
            "  Attempting uninstall: requests\n",
            "    Found existing installation: requests 2.23.0\n",
            "    Uninstalling requests-2.23.0:\n",
            "      Successfully uninstalled requests-2.23.0\n",
            "  Attempting uninstall: html5lib\n",
            "    Found existing installation: html5lib 1.0.1\n",
            "    Uninstalling html5lib-1.0.1:\n",
            "      Successfully uninstalled html5lib-1.0.1\n",
            "  Attempting uninstall: beautifulsoup4\n",
            "    Found existing installation: beautifulsoup4 4.6.3\n",
            "    Uninstalling beautifulsoup4-4.6.3:\n",
            "      Successfully uninstalled beautifulsoup4-4.6.3\n",
            "Successfully installed beautifulsoup4-4.11.1 cryptography-38.0.4 frozendict-2.3.4 html5lib-1.1 requests-2.28.1 soupsieve-2.3.2.post1 yfinance-0.2.3\n"
          ]
        }
      ]
    },
    {
      "cell_type": "code",
      "execution_count": 2,
      "metadata": {
        "colab": {
          "base_uri": "https://localhost:8080/",
          "height": 464
        },
        "id": "SG7yH4ZGJbNk",
        "outputId": "ee350513-ded8-4256-9e0f-4108eb2c382a"
      },
      "outputs": [
        {
          "output_type": "stream",
          "name": "stdout",
          "text": [
            "[*********************100%***********************]  1 of 1 completed\n",
            "[*********************100%***********************]  1 of 1 completed\n",
            "[*********************100%***********************]  1 of 1 completed\n",
            "[*********************100%***********************]  1 of 1 completed\n"
          ]
        },
        {
          "output_type": "execute_result",
          "data": {
            "text/plain": [
              "                 Open       High        Low      Close  Adj Close     Volume  \\\n",
              "Date                                                                           \n",
              "2022-12-07  88.339996  89.889999  87.480003  88.459999  88.459999   68086900   \n",
              "2022-12-08  89.239998  90.860001  87.879997  90.349998  90.349998   73305900   \n",
              "2022-12-09  88.900002  90.300003  88.629997  89.089996  89.089996   67316900   \n",
              "2022-12-12  89.209999  90.580002  87.870003  90.550003  90.550003   61999800   \n",
              "2022-12-13  95.230003  96.250000  90.519997  92.489998  92.489998  100212000   \n",
              "2022-12-14  92.500000  93.459999  89.870003  91.580002  91.580002   70298000   \n",
              "2022-12-15  89.889999  89.970001  87.470001  88.449997  88.449997   84802900   \n",
              "2022-12-16  88.269997  89.349998  86.730003  87.860001  87.860001  146044000   \n",
              "2022-12-19  87.510002  87.629997  84.510002  84.919998  84.919998   83363400   \n",
              "2022-12-20  85.330002  86.610001  84.330002  85.264999  85.264999   62977694   \n",
              "\n",
              "           company_name  \n",
              "Date                     \n",
              "2022-12-07       AMAZON  \n",
              "2022-12-08       AMAZON  \n",
              "2022-12-09       AMAZON  \n",
              "2022-12-12       AMAZON  \n",
              "2022-12-13       AMAZON  \n",
              "2022-12-14       AMAZON  \n",
              "2022-12-15       AMAZON  \n",
              "2022-12-16       AMAZON  \n",
              "2022-12-19       AMAZON  \n",
              "2022-12-20       AMAZON  "
            ],
            "text/html": [
              "\n",
              "  <div id=\"df-20cfeba5-0ea3-4246-9d07-f215affc456c\">\n",
              "    <div class=\"colab-df-container\">\n",
              "      <div>\n",
              "<style scoped>\n",
              "    .dataframe tbody tr th:only-of-type {\n",
              "        vertical-align: middle;\n",
              "    }\n",
              "\n",
              "    .dataframe tbody tr th {\n",
              "        vertical-align: top;\n",
              "    }\n",
              "\n",
              "    .dataframe thead th {\n",
              "        text-align: right;\n",
              "    }\n",
              "</style>\n",
              "<table border=\"1\" class=\"dataframe\">\n",
              "  <thead>\n",
              "    <tr style=\"text-align: right;\">\n",
              "      <th></th>\n",
              "      <th>Open</th>\n",
              "      <th>High</th>\n",
              "      <th>Low</th>\n",
              "      <th>Close</th>\n",
              "      <th>Adj Close</th>\n",
              "      <th>Volume</th>\n",
              "      <th>company_name</th>\n",
              "    </tr>\n",
              "    <tr>\n",
              "      <th>Date</th>\n",
              "      <th></th>\n",
              "      <th></th>\n",
              "      <th></th>\n",
              "      <th></th>\n",
              "      <th></th>\n",
              "      <th></th>\n",
              "      <th></th>\n",
              "    </tr>\n",
              "  </thead>\n",
              "  <tbody>\n",
              "    <tr>\n",
              "      <th>2022-12-07</th>\n",
              "      <td>88.339996</td>\n",
              "      <td>89.889999</td>\n",
              "      <td>87.480003</td>\n",
              "      <td>88.459999</td>\n",
              "      <td>88.459999</td>\n",
              "      <td>68086900</td>\n",
              "      <td>AMAZON</td>\n",
              "    </tr>\n",
              "    <tr>\n",
              "      <th>2022-12-08</th>\n",
              "      <td>89.239998</td>\n",
              "      <td>90.860001</td>\n",
              "      <td>87.879997</td>\n",
              "      <td>90.349998</td>\n",
              "      <td>90.349998</td>\n",
              "      <td>73305900</td>\n",
              "      <td>AMAZON</td>\n",
              "    </tr>\n",
              "    <tr>\n",
              "      <th>2022-12-09</th>\n",
              "      <td>88.900002</td>\n",
              "      <td>90.300003</td>\n",
              "      <td>88.629997</td>\n",
              "      <td>89.089996</td>\n",
              "      <td>89.089996</td>\n",
              "      <td>67316900</td>\n",
              "      <td>AMAZON</td>\n",
              "    </tr>\n",
              "    <tr>\n",
              "      <th>2022-12-12</th>\n",
              "      <td>89.209999</td>\n",
              "      <td>90.580002</td>\n",
              "      <td>87.870003</td>\n",
              "      <td>90.550003</td>\n",
              "      <td>90.550003</td>\n",
              "      <td>61999800</td>\n",
              "      <td>AMAZON</td>\n",
              "    </tr>\n",
              "    <tr>\n",
              "      <th>2022-12-13</th>\n",
              "      <td>95.230003</td>\n",
              "      <td>96.250000</td>\n",
              "      <td>90.519997</td>\n",
              "      <td>92.489998</td>\n",
              "      <td>92.489998</td>\n",
              "      <td>100212000</td>\n",
              "      <td>AMAZON</td>\n",
              "    </tr>\n",
              "    <tr>\n",
              "      <th>2022-12-14</th>\n",
              "      <td>92.500000</td>\n",
              "      <td>93.459999</td>\n",
              "      <td>89.870003</td>\n",
              "      <td>91.580002</td>\n",
              "      <td>91.580002</td>\n",
              "      <td>70298000</td>\n",
              "      <td>AMAZON</td>\n",
              "    </tr>\n",
              "    <tr>\n",
              "      <th>2022-12-15</th>\n",
              "      <td>89.889999</td>\n",
              "      <td>89.970001</td>\n",
              "      <td>87.470001</td>\n",
              "      <td>88.449997</td>\n",
              "      <td>88.449997</td>\n",
              "      <td>84802900</td>\n",
              "      <td>AMAZON</td>\n",
              "    </tr>\n",
              "    <tr>\n",
              "      <th>2022-12-16</th>\n",
              "      <td>88.269997</td>\n",
              "      <td>89.349998</td>\n",
              "      <td>86.730003</td>\n",
              "      <td>87.860001</td>\n",
              "      <td>87.860001</td>\n",
              "      <td>146044000</td>\n",
              "      <td>AMAZON</td>\n",
              "    </tr>\n",
              "    <tr>\n",
              "      <th>2022-12-19</th>\n",
              "      <td>87.510002</td>\n",
              "      <td>87.629997</td>\n",
              "      <td>84.510002</td>\n",
              "      <td>84.919998</td>\n",
              "      <td>84.919998</td>\n",
              "      <td>83363400</td>\n",
              "      <td>AMAZON</td>\n",
              "    </tr>\n",
              "    <tr>\n",
              "      <th>2022-12-20</th>\n",
              "      <td>85.330002</td>\n",
              "      <td>86.610001</td>\n",
              "      <td>84.330002</td>\n",
              "      <td>85.264999</td>\n",
              "      <td>85.264999</td>\n",
              "      <td>62977694</td>\n",
              "      <td>AMAZON</td>\n",
              "    </tr>\n",
              "  </tbody>\n",
              "</table>\n",
              "</div>\n",
              "      <button class=\"colab-df-convert\" onclick=\"convertToInteractive('df-20cfeba5-0ea3-4246-9d07-f215affc456c')\"\n",
              "              title=\"Convert this dataframe to an interactive table.\"\n",
              "              style=\"display:none;\">\n",
              "        \n",
              "  <svg xmlns=\"http://www.w3.org/2000/svg\" height=\"24px\"viewBox=\"0 0 24 24\"\n",
              "       width=\"24px\">\n",
              "    <path d=\"M0 0h24v24H0V0z\" fill=\"none\"/>\n",
              "    <path d=\"M18.56 5.44l.94 2.06.94-2.06 2.06-.94-2.06-.94-.94-2.06-.94 2.06-2.06.94zm-11 1L8.5 8.5l.94-2.06 2.06-.94-2.06-.94L8.5 2.5l-.94 2.06-2.06.94zm10 10l.94 2.06.94-2.06 2.06-.94-2.06-.94-.94-2.06-.94 2.06-2.06.94z\"/><path d=\"M17.41 7.96l-1.37-1.37c-.4-.4-.92-.59-1.43-.59-.52 0-1.04.2-1.43.59L10.3 9.45l-7.72 7.72c-.78.78-.78 2.05 0 2.83L4 21.41c.39.39.9.59 1.41.59.51 0 1.02-.2 1.41-.59l7.78-7.78 2.81-2.81c.8-.78.8-2.07 0-2.86zM5.41 20L4 18.59l7.72-7.72 1.47 1.35L5.41 20z\"/>\n",
              "  </svg>\n",
              "      </button>\n",
              "      \n",
              "  <style>\n",
              "    .colab-df-container {\n",
              "      display:flex;\n",
              "      flex-wrap:wrap;\n",
              "      gap: 12px;\n",
              "    }\n",
              "\n",
              "    .colab-df-convert {\n",
              "      background-color: #E8F0FE;\n",
              "      border: none;\n",
              "      border-radius: 50%;\n",
              "      cursor: pointer;\n",
              "      display: none;\n",
              "      fill: #1967D2;\n",
              "      height: 32px;\n",
              "      padding: 0 0 0 0;\n",
              "      width: 32px;\n",
              "    }\n",
              "\n",
              "    .colab-df-convert:hover {\n",
              "      background-color: #E2EBFA;\n",
              "      box-shadow: 0px 1px 2px rgba(60, 64, 67, 0.3), 0px 1px 3px 1px rgba(60, 64, 67, 0.15);\n",
              "      fill: #174EA6;\n",
              "    }\n",
              "\n",
              "    [theme=dark] .colab-df-convert {\n",
              "      background-color: #3B4455;\n",
              "      fill: #D2E3FC;\n",
              "    }\n",
              "\n",
              "    [theme=dark] .colab-df-convert:hover {\n",
              "      background-color: #434B5C;\n",
              "      box-shadow: 0px 1px 3px 1px rgba(0, 0, 0, 0.15);\n",
              "      filter: drop-shadow(0px 1px 2px rgba(0, 0, 0, 0.3));\n",
              "      fill: #FFFFFF;\n",
              "    }\n",
              "  </style>\n",
              "\n",
              "      <script>\n",
              "        const buttonEl =\n",
              "          document.querySelector('#df-20cfeba5-0ea3-4246-9d07-f215affc456c button.colab-df-convert');\n",
              "        buttonEl.style.display =\n",
              "          google.colab.kernel.accessAllowed ? 'block' : 'none';\n",
              "\n",
              "        async function convertToInteractive(key) {\n",
              "          const element = document.querySelector('#df-20cfeba5-0ea3-4246-9d07-f215affc456c');\n",
              "          const dataTable =\n",
              "            await google.colab.kernel.invokeFunction('convertToInteractive',\n",
              "                                                     [key], {});\n",
              "          if (!dataTable) return;\n",
              "\n",
              "          const docLinkHtml = 'Like what you see? Visit the ' +\n",
              "            '<a target=\"_blank\" href=https://colab.research.google.com/notebooks/data_table.ipynb>data table notebook</a>'\n",
              "            + ' to learn more about interactive tables.';\n",
              "          element.innerHTML = '';\n",
              "          dataTable['output_type'] = 'display_data';\n",
              "          await google.colab.output.renderOutput(dataTable, element);\n",
              "          const docLink = document.createElement('div');\n",
              "          docLink.innerHTML = docLinkHtml;\n",
              "          element.appendChild(docLink);\n",
              "        }\n",
              "      </script>\n",
              "    </div>\n",
              "  </div>\n",
              "  "
            ]
          },
          "metadata": {},
          "execution_count": 2
        }
      ],
      "source": [
        "import pandas as pd\n",
        "import numpy as np\n",
        "\n",
        "import matplotlib.pyplot as plt\n",
        "import seaborn as sns\n",
        "sns.set_style('whitegrid')\n",
        "plt.style.use(\"fivethirtyeight\")\n",
        "%matplotlib inline\n",
        "\n",
        "# For reading stock data from yahoo\n",
        "from pandas_datareader.data import DataReader\n",
        "import yfinance as yf\n",
        "\n",
        "# For time stamps\n",
        "from datetime import datetime\n",
        "\n",
        "\n",
        "# The tech stocks we'll use for this analysis\n",
        "tech_list = ['AAPL', 'GOOG', 'MSFT', 'AMZN']\n",
        "\n",
        "# Set up End and Start times for data grab\n",
        "tech_list = ['AAPL', 'GOOG', 'MSFT', 'AMZN']\n",
        "\n",
        "end = datetime.now()\n",
        "start = datetime(end.year - 10, end.month, end.day)\n",
        "\n",
        "for stock in tech_list:\n",
        "    globals()[stock] = yf.download(stock, start, end)\n",
        "    \n",
        "\n",
        "company_list = [AAPL, GOOG, MSFT, AMZN]\n",
        "company_name = [\"APPLE\", \"GOOGLE\", \"MICROSOFT\", \"AMAZON\"]\n",
        "\n",
        "for company, com_name in zip(company_list, company_name):\n",
        "    company[\"company_name\"] = com_name\n",
        "    \n",
        "df = pd.concat(company_list, axis=0)\n",
        "df.tail(10)"
      ]
    },
    {
      "cell_type": "markdown",
      "source": [
        "Data is structured in date order, with one sample per trading day, and one company after another."
      ],
      "metadata": {
        "id": "cW7ayhhiKhW_"
      }
    },
    {
      "cell_type": "markdown",
      "source": [
        "## Data exploration"
      ],
      "metadata": {
        "id": "7YFRmcw_K7JB"
      }
    },
    {
      "cell_type": "markdown",
      "source": [
        "Describe, get info for sample stock (Amazon)"
      ],
      "metadata": {
        "id": "Wqc5lqetK8yg"
      }
    },
    {
      "cell_type": "code",
      "source": [
        "AMZN.describe()"
      ],
      "metadata": {
        "colab": {
          "base_uri": "https://localhost:8080/",
          "height": 300
        },
        "id": "x5qe1KRvLBC2",
        "outputId": "1fa12b09-3a14-4c4f-b167-d0c841542c21"
      },
      "execution_count": 3,
      "outputs": [
        {
          "output_type": "execute_result",
          "data": {
            "text/plain": [
              "              Open         High          Low        Close    Adj Close  \\\n",
              "count  2518.000000  2518.000000  2518.000000  2518.000000  2518.000000   \n",
              "mean     73.624853    74.460637    72.685684    73.581370    73.581370   \n",
              "std      53.440010    54.094096    52.707429    53.383799    53.383799   \n",
              "min      12.187500    12.372000    12.137500    12.259000    12.259000   \n",
              "25%      21.780624    21.953001    21.665000    21.818251    21.818251   \n",
              "50%      59.056499    59.432249    58.496000    59.035000    59.035000   \n",
              "75%     107.947500   110.125498   106.283127   107.755125   107.755125   \n",
              "max     187.199997   188.654007   184.839493   186.570496   186.570496   \n",
              "\n",
              "             Volume  \n",
              "count  2.518000e+03  \n",
              "mean   8.024979e+07  \n",
              "std    4.232201e+07  \n",
              "min    1.762600e+07  \n",
              "25%    5.359100e+07  \n",
              "50%    6.868900e+07  \n",
              "75%    9.309050e+07  \n",
              "max    4.771220e+08  "
            ],
            "text/html": [
              "\n",
              "  <div id=\"df-79f1d587-7ff3-47c0-8d3f-91488de7a247\">\n",
              "    <div class=\"colab-df-container\">\n",
              "      <div>\n",
              "<style scoped>\n",
              "    .dataframe tbody tr th:only-of-type {\n",
              "        vertical-align: middle;\n",
              "    }\n",
              "\n",
              "    .dataframe tbody tr th {\n",
              "        vertical-align: top;\n",
              "    }\n",
              "\n",
              "    .dataframe thead th {\n",
              "        text-align: right;\n",
              "    }\n",
              "</style>\n",
              "<table border=\"1\" class=\"dataframe\">\n",
              "  <thead>\n",
              "    <tr style=\"text-align: right;\">\n",
              "      <th></th>\n",
              "      <th>Open</th>\n",
              "      <th>High</th>\n",
              "      <th>Low</th>\n",
              "      <th>Close</th>\n",
              "      <th>Adj Close</th>\n",
              "      <th>Volume</th>\n",
              "    </tr>\n",
              "  </thead>\n",
              "  <tbody>\n",
              "    <tr>\n",
              "      <th>count</th>\n",
              "      <td>2518.000000</td>\n",
              "      <td>2518.000000</td>\n",
              "      <td>2518.000000</td>\n",
              "      <td>2518.000000</td>\n",
              "      <td>2518.000000</td>\n",
              "      <td>2.518000e+03</td>\n",
              "    </tr>\n",
              "    <tr>\n",
              "      <th>mean</th>\n",
              "      <td>73.624853</td>\n",
              "      <td>74.460637</td>\n",
              "      <td>72.685684</td>\n",
              "      <td>73.581370</td>\n",
              "      <td>73.581370</td>\n",
              "      <td>8.024979e+07</td>\n",
              "    </tr>\n",
              "    <tr>\n",
              "      <th>std</th>\n",
              "      <td>53.440010</td>\n",
              "      <td>54.094096</td>\n",
              "      <td>52.707429</td>\n",
              "      <td>53.383799</td>\n",
              "      <td>53.383799</td>\n",
              "      <td>4.232201e+07</td>\n",
              "    </tr>\n",
              "    <tr>\n",
              "      <th>min</th>\n",
              "      <td>12.187500</td>\n",
              "      <td>12.372000</td>\n",
              "      <td>12.137500</td>\n",
              "      <td>12.259000</td>\n",
              "      <td>12.259000</td>\n",
              "      <td>1.762600e+07</td>\n",
              "    </tr>\n",
              "    <tr>\n",
              "      <th>25%</th>\n",
              "      <td>21.780624</td>\n",
              "      <td>21.953001</td>\n",
              "      <td>21.665000</td>\n",
              "      <td>21.818251</td>\n",
              "      <td>21.818251</td>\n",
              "      <td>5.359100e+07</td>\n",
              "    </tr>\n",
              "    <tr>\n",
              "      <th>50%</th>\n",
              "      <td>59.056499</td>\n",
              "      <td>59.432249</td>\n",
              "      <td>58.496000</td>\n",
              "      <td>59.035000</td>\n",
              "      <td>59.035000</td>\n",
              "      <td>6.868900e+07</td>\n",
              "    </tr>\n",
              "    <tr>\n",
              "      <th>75%</th>\n",
              "      <td>107.947500</td>\n",
              "      <td>110.125498</td>\n",
              "      <td>106.283127</td>\n",
              "      <td>107.755125</td>\n",
              "      <td>107.755125</td>\n",
              "      <td>9.309050e+07</td>\n",
              "    </tr>\n",
              "    <tr>\n",
              "      <th>max</th>\n",
              "      <td>187.199997</td>\n",
              "      <td>188.654007</td>\n",
              "      <td>184.839493</td>\n",
              "      <td>186.570496</td>\n",
              "      <td>186.570496</td>\n",
              "      <td>4.771220e+08</td>\n",
              "    </tr>\n",
              "  </tbody>\n",
              "</table>\n",
              "</div>\n",
              "      <button class=\"colab-df-convert\" onclick=\"convertToInteractive('df-79f1d587-7ff3-47c0-8d3f-91488de7a247')\"\n",
              "              title=\"Convert this dataframe to an interactive table.\"\n",
              "              style=\"display:none;\">\n",
              "        \n",
              "  <svg xmlns=\"http://www.w3.org/2000/svg\" height=\"24px\"viewBox=\"0 0 24 24\"\n",
              "       width=\"24px\">\n",
              "    <path d=\"M0 0h24v24H0V0z\" fill=\"none\"/>\n",
              "    <path d=\"M18.56 5.44l.94 2.06.94-2.06 2.06-.94-2.06-.94-.94-2.06-.94 2.06-2.06.94zm-11 1L8.5 8.5l.94-2.06 2.06-.94-2.06-.94L8.5 2.5l-.94 2.06-2.06.94zm10 10l.94 2.06.94-2.06 2.06-.94-2.06-.94-.94-2.06-.94 2.06-2.06.94z\"/><path d=\"M17.41 7.96l-1.37-1.37c-.4-.4-.92-.59-1.43-.59-.52 0-1.04.2-1.43.59L10.3 9.45l-7.72 7.72c-.78.78-.78 2.05 0 2.83L4 21.41c.39.39.9.59 1.41.59.51 0 1.02-.2 1.41-.59l7.78-7.78 2.81-2.81c.8-.78.8-2.07 0-2.86zM5.41 20L4 18.59l7.72-7.72 1.47 1.35L5.41 20z\"/>\n",
              "  </svg>\n",
              "      </button>\n",
              "      \n",
              "  <style>\n",
              "    .colab-df-container {\n",
              "      display:flex;\n",
              "      flex-wrap:wrap;\n",
              "      gap: 12px;\n",
              "    }\n",
              "\n",
              "    .colab-df-convert {\n",
              "      background-color: #E8F0FE;\n",
              "      border: none;\n",
              "      border-radius: 50%;\n",
              "      cursor: pointer;\n",
              "      display: none;\n",
              "      fill: #1967D2;\n",
              "      height: 32px;\n",
              "      padding: 0 0 0 0;\n",
              "      width: 32px;\n",
              "    }\n",
              "\n",
              "    .colab-df-convert:hover {\n",
              "      background-color: #E2EBFA;\n",
              "      box-shadow: 0px 1px 2px rgba(60, 64, 67, 0.3), 0px 1px 3px 1px rgba(60, 64, 67, 0.15);\n",
              "      fill: #174EA6;\n",
              "    }\n",
              "\n",
              "    [theme=dark] .colab-df-convert {\n",
              "      background-color: #3B4455;\n",
              "      fill: #D2E3FC;\n",
              "    }\n",
              "\n",
              "    [theme=dark] .colab-df-convert:hover {\n",
              "      background-color: #434B5C;\n",
              "      box-shadow: 0px 1px 3px 1px rgba(0, 0, 0, 0.15);\n",
              "      filter: drop-shadow(0px 1px 2px rgba(0, 0, 0, 0.3));\n",
              "      fill: #FFFFFF;\n",
              "    }\n",
              "  </style>\n",
              "\n",
              "      <script>\n",
              "        const buttonEl =\n",
              "          document.querySelector('#df-79f1d587-7ff3-47c0-8d3f-91488de7a247 button.colab-df-convert');\n",
              "        buttonEl.style.display =\n",
              "          google.colab.kernel.accessAllowed ? 'block' : 'none';\n",
              "\n",
              "        async function convertToInteractive(key) {\n",
              "          const element = document.querySelector('#df-79f1d587-7ff3-47c0-8d3f-91488de7a247');\n",
              "          const dataTable =\n",
              "            await google.colab.kernel.invokeFunction('convertToInteractive',\n",
              "                                                     [key], {});\n",
              "          if (!dataTable) return;\n",
              "\n",
              "          const docLinkHtml = 'Like what you see? Visit the ' +\n",
              "            '<a target=\"_blank\" href=https://colab.research.google.com/notebooks/data_table.ipynb>data table notebook</a>'\n",
              "            + ' to learn more about interactive tables.';\n",
              "          element.innerHTML = '';\n",
              "          dataTable['output_type'] = 'display_data';\n",
              "          await google.colab.output.renderOutput(dataTable, element);\n",
              "          const docLink = document.createElement('div');\n",
              "          docLink.innerHTML = docLinkHtml;\n",
              "          element.appendChild(docLink);\n",
              "        }\n",
              "      </script>\n",
              "    </div>\n",
              "  </div>\n",
              "  "
            ]
          },
          "metadata": {},
          "execution_count": 3
        }
      ]
    },
    {
      "cell_type": "code",
      "source": [
        "AMZN.info()"
      ],
      "metadata": {
        "colab": {
          "base_uri": "https://localhost:8080/"
        },
        "id": "QWbOKUqvLFQL",
        "outputId": "6a0d0585-154f-4c06-cec8-82c345d0225c"
      },
      "execution_count": 4,
      "outputs": [
        {
          "output_type": "stream",
          "name": "stdout",
          "text": [
            "<class 'pandas.core.frame.DataFrame'>\n",
            "DatetimeIndex: 2518 entries, 2012-12-20 to 2022-12-20\n",
            "Data columns (total 7 columns):\n",
            " #   Column        Non-Null Count  Dtype  \n",
            "---  ------        --------------  -----  \n",
            " 0   Open          2518 non-null   float64\n",
            " 1   High          2518 non-null   float64\n",
            " 2   Low           2518 non-null   float64\n",
            " 3   Close         2518 non-null   float64\n",
            " 4   Adj Close     2518 non-null   float64\n",
            " 5   Volume        2518 non-null   int64  \n",
            " 6   company_name  2518 non-null   object \n",
            "dtypes: float64(5), int64(1), object(1)\n",
            "memory usage: 157.4+ KB\n"
          ]
        }
      ]
    },
    {
      "cell_type": "markdown",
      "source": [
        "Closing prices of all 4 stocks graphed out for visual inspection:"
      ],
      "metadata": {
        "id": "ZpLxxR01LQVU"
      }
    },
    {
      "cell_type": "code",
      "source": [
        "# Let's see a historical view of the closing price\n",
        "plt.figure(figsize=(15, 10))\n",
        "plt.subplots_adjust(top=1.25, bottom=1.2)\n",
        "\n",
        "for i, company in enumerate(company_list, 1):\n",
        "    plt.subplot(2, 2, i)\n",
        "    company['Adj Close'].plot()\n",
        "    plt.ylabel('Adj Close')\n",
        "    plt.xlabel(None)\n",
        "    plt.title(f\"Closing Price of {tech_list[i - 1]}\")\n",
        "    \n",
        "plt.tight_layout()"
      ],
      "metadata": {
        "colab": {
          "base_uri": "https://localhost:8080/",
          "height": 729
        },
        "id": "IZ0GxJjeLIIu",
        "outputId": "02a955a0-07f6-4fe2-a281-9313d72a5c97"
      },
      "execution_count": 5,
      "outputs": [
        {
          "output_type": "display_data",
          "data": {
            "text/plain": [
              "<Figure size 1080x720 with 4 Axes>"
            ],
            "image/png": "[encoded data removed]"
          },
          "metadata": {
            "needs_background": "light"
          }
        }
      ]
    },
    {
      "cell_type": "markdown",
      "source": [
        "These closing price graphs are what we will apply the Long Short Term Memory(LSTM) model to predict price movements."
      ],
      "metadata": {
        "id": "0XywPnEOMKEi"
      }
    },
    {
      "cell_type": "markdown",
      "source": [
        "## Building the Model"
      ],
      "metadata": {
        "id": "Ignd5xXwNyNc"
      }
    },
    {
      "cell_type": "markdown",
      "source": [
        "Working with just one market to start (Amazon)"
      ],
      "metadata": {
        "id": "HtmQHBUmPxJW"
      }
    },
    {
      "cell_type": "markdown",
      "source": [
        "Get just closes, conver to np array"
      ],
      "metadata": {
        "id": "w8iSYBNzPYLr"
      }
    },
    {
      "cell_type": "code",
      "source": [
        "AMZN = AMZN.filter(['Close'])\n",
        "dataset = AMZN.values\n",
        "# Get the number of rows to train the model on\n",
        "training_data_len = int(np.ceil( len(dataset) * .95 ))\n",
        "training_data_len"
      ],
      "metadata": {
        "colab": {
          "base_uri": "https://localhost:8080/"
        },
        "id": "PbWevIeBPZdn",
        "outputId": "32029773-dab2-43d9-f6e1-89f3a733f160"
      },
      "execution_count": 6,
      "outputs": [
        {
          "output_type": "execute_result",
          "data": {
            "text/plain": [
              "2393"
            ]
          },
          "metadata": {},
          "execution_count": 6
        }
      ]
    },
    {
      "cell_type": "markdown",
      "source": [
        "Data scaling, feature space in range 0 to 1:"
      ],
      "metadata": {
        "id": "QxVnz_p0QLez"
      }
    },
    {
      "cell_type": "code",
      "source": [
        "# Scale the data\n",
        "from sklearn.preprocessing import MinMaxScaler\n",
        "\n",
        "scaler = MinMaxScaler(feature_range=(0,1))\n",
        "scaled_data = scaler.fit_transform(dataset)\n",
        "\n",
        "scaled_data"
      ],
      "metadata": {
        "colab": {
          "base_uri": "https://localhost:8080/"
        },
        "id": "2GZwWxTEQMiZ",
        "outputId": "8efa9578-a4d1-4c09-e25c-02d1d2fd3c7b"
      },
      "execution_count": 7,
      "outputs": [
        {
          "output_type": "execute_result",
          "data": {
            "text/plain": [
              "array([[0.00468127],\n",
              "       [0.00336753],\n",
              "       [0.00385517],\n",
              "       ...,\n",
              "       [0.43371208],\n",
              "       [0.4168457 ],\n",
              "       [0.41882493]])"
            ]
          },
          "metadata": {},
          "execution_count": 7
        }
      ]
    },
    {
      "cell_type": "markdown",
      "source": [
        "Get X_train, Y_train (previous samples and current sample)"
      ],
      "metadata": {
        "id": "QPDl5DgMQk8-"
      }
    },
    {
      "cell_type": "code",
      "source": [
        "# Create the training data set \n",
        "# Create the scaled training data set\n",
        "train_data = scaled_data[0:int(training_data_len), :]\n",
        "# Split the data into x_train and y_train data sets\n",
        "x_train = []\n",
        "y_train = []\n",
        "\n",
        "for i in range(60, len(train_data)):\n",
        "    x_train.append(train_data[i-60:i, 0])\n",
        "    y_train.append(train_data[i, 0])\n",
        "    if i<= 61:\n",
        "        print(x_train)\n",
        "        print(y_train)\n",
        "        print()\n",
        "        \n",
        "# Convert the x_train and y_train to numpy arrays \n",
        "x_train, y_train = np.array(x_train), np.array(y_train)\n",
        "\n",
        "# Reshape the data\n",
        "x_train = np.reshape(x_train, (x_train.shape[0], x_train.shape[1], 1))\n",
        "# x_train.shape"
      ],
      "metadata": {
        "colab": {
          "base_uri": "https://localhost:8080/"
        },
        "id": "H2otS7E_QpF9",
        "outputId": "c8e063b2-b7b2-49f2-ad6b-be2595fdc133"
      },
      "execution_count": 8,
      "outputs": [
        {
          "output_type": "stream",
          "name": "stdout",
          "text": [
            "[array([0.00468127, 0.00336753, 0.00385517, 0.00098961, 0.00089782,\n",
            "       0.        , 0.00163214, 0.00347941, 0.00381501, 0.0040072 ,\n",
            "       0.0066777 , 0.00608107, 0.00607246, 0.00578275, 0.00652855,\n",
            "       0.00790252, 0.00766444, 0.00681252, 0.00725713, 0.00772755,\n",
            "       0.00717394, 0.00657731, 0.00811192, 0.01113237, 0.00885197,\n",
            "       0.00435141, 0.00791112, 0.00582864, 0.00568523, 0.00424527,\n",
            "       0.00622736, 0.0048878 , 0.00431699, 0.00481035, 0.00345072,\n",
            "       0.00387812, 0.00696741, 0.00690144, 0.00571104, 0.00704773,\n",
            "       0.00608968, 0.00595486, 0.0058057 , 0.00421372, 0.00406743,\n",
            "       0.00518325, 0.00547583, 0.00589749, 0.00801152, 0.00872289,\n",
            "       0.00820657, 0.00823239, 0.00832131, 0.00747513, 0.0083041 ,\n",
            "       0.00858234, 0.00589749, 0.00477306, 0.00364577, 0.00322125])]\n",
            "[0.0034708008969812493]\n",
            "\n",
            "[array([0.00468127, 0.00336753, 0.00385517, 0.00098961, 0.00089782,\n",
            "       0.        , 0.00163214, 0.00347941, 0.00381501, 0.0040072 ,\n",
            "       0.0066777 , 0.00608107, 0.00607246, 0.00578275, 0.00652855,\n",
            "       0.00790252, 0.00766444, 0.00681252, 0.00725713, 0.00772755,\n",
            "       0.00717394, 0.00657731, 0.00811192, 0.01113237, 0.00885197,\n",
            "       0.00435141, 0.00791112, 0.00582864, 0.00568523, 0.00424527,\n",
            "       0.00622736, 0.0048878 , 0.00431699, 0.00481035, 0.00345072,\n",
            "       0.00387812, 0.00696741, 0.00690144, 0.00571104, 0.00704773,\n",
            "       0.00608968, 0.00595486, 0.0058057 , 0.00421372, 0.00406743,\n",
            "       0.00518325, 0.00547583, 0.00589749, 0.00801152, 0.00872289,\n",
            "       0.00820657, 0.00823239, 0.00832131, 0.00747513, 0.0083041 ,\n",
            "       0.00858234, 0.00589749, 0.00477306, 0.00364577, 0.00322125]), array([0.00336753, 0.00385517, 0.00098961, 0.00089782, 0.        ,\n",
            "       0.00163214, 0.00347941, 0.00381501, 0.0040072 , 0.0066777 ,\n",
            "       0.00608107, 0.00607246, 0.00578275, 0.00652855, 0.00790252,\n",
            "       0.00766444, 0.00681252, 0.00725713, 0.00772755, 0.00717394,\n",
            "       0.00657731, 0.00811192, 0.01113237, 0.00885197, 0.00435141,\n",
            "       0.00791112, 0.00582864, 0.00568523, 0.00424527, 0.00622736,\n",
            "       0.0048878 , 0.00431699, 0.00481035, 0.00345072, 0.00387812,\n",
            "       0.00696741, 0.00690144, 0.00571104, 0.00704773, 0.00608968,\n",
            "       0.00595486, 0.0058057 , 0.00421372, 0.00406743, 0.00518325,\n",
            "       0.00547583, 0.00589749, 0.00801152, 0.00872289, 0.00820657,\n",
            "       0.00823239, 0.00832131, 0.00747513, 0.0083041 , 0.00858234,\n",
            "       0.00589749, 0.00477306, 0.00364577, 0.00322125, 0.0034708 ])]\n",
            "[0.0034708008969812493, 0.002354982524756105]\n",
            "\n"
          ]
        }
      ]
    },
    {
      "cell_type": "markdown",
      "source": [
        "Model Configuration, training"
      ],
      "metadata": {
        "id": "vrali7HjQyF5"
      }
    },
    {
      "cell_type": "code",
      "source": [
        "from keras.models import Sequential\n",
        "from keras.layers import Dense, LSTM\n",
        "\n",
        "# Build the LSTM model\n",
        "model = Sequential()\n",
        "model.add(LSTM(128, return_sequences=True, input_shape= (x_train.shape[1], 1)))\n",
        "model.add(LSTM(64, return_sequences=False))\n",
        "model.add(Dense(25))\n",
        "model.add(Dense(1))\n",
        "\n",
        "# Compile the model\n",
        "model.compile(optimizer='adam', loss='mean_squared_error')\n",
        "\n",
        "# Train the model\n",
        "model.fit(x_train, y_train, batch_size=1, epochs=1)"
      ],
      "metadata": {
        "colab": {
          "base_uri": "https://localhost:8080/"
        },
        "id": "qvRy4EZtQ1El",
        "outputId": "6dd49a1b-7086-42c7-a599-e33135362974"
      },
      "execution_count": 9,
      "outputs": [
        {
          "output_type": "stream",
          "name": "stdout",
          "text": [
            "2333/2333 [==============================] - 31s 9ms/step - loss: 0.0017\n"
          ]
        },
        {
          "output_type": "execute_result",
          "data": {
            "text/plain": [
              "<keras.callbacks.History at 0x7f3e3c4b1f70>"
            ]
          },
          "metadata": {},
          "execution_count": 9
        }
      ]
    },
    {
      "cell_type": "markdown",
      "source": [
        "## Testing"
      ],
      "metadata": {
        "id": "odr4yfsTQ_8j"
      }
    },
    {
      "cell_type": "markdown",
      "source": [
        "Build test dataset, make predictions"
      ],
      "metadata": {
        "id": "eU1yIBy6RCpf"
      }
    },
    {
      "cell_type": "code",
      "source": [
        "# Create the testing data set\n",
        "# Create a new array containing scaled values from index 1543 to 2002 \n",
        "test_data = scaled_data[training_data_len - 60: , :]\n",
        "# Create the data sets x_test and y_test\n",
        "x_test = []\n",
        "y_test = dataset[training_data_len:, :]\n",
        "for i in range(60, len(test_data)):\n",
        "    x_test.append(test_data[i-60:i, 0])\n",
        "    \n",
        "# Convert the data to a numpy array\n",
        "x_test = np.array(x_test)\n",
        "\n",
        "# Reshape the data\n",
        "x_test = np.reshape(x_test, (x_test.shape[0], x_test.shape[1], 1 ))\n",
        "\n",
        "# Get the models predicted price values \n",
        "predictions = model.predict(x_test)\n",
        "predictions = scaler.inverse_transform(predictions)\n",
        "\n",
        "# Get the root mean squared error (RMSE)\n",
        "rmse = np.sqrt(np.mean(((predictions - y_test) ** 2)))\n",
        "rmse"
      ],
      "metadata": {
        "colab": {
          "base_uri": "https://localhost:8080/"
        },
        "id": "vt6QCH-5RBjp",
        "outputId": "49bcb706-8208-49ea-c826-577039cc96ff"
      },
      "execution_count": 10,
      "outputs": [
        {
          "output_type": "stream",
          "name": "stdout",
          "text": [
            "4/4 [==============================] - 1s 5ms/step\n"
          ]
        },
        {
          "output_type": "execute_result",
          "data": {
            "text/plain": [
              "6.320519337511324"
            ]
          },
          "metadata": {},
          "execution_count": 10
        }
      ]
    },
    {
      "cell_type": "markdown",
      "source": [
        "Visual inspection of model"
      ],
      "metadata": {
        "id": "nhXO4erwRQed"
      }
    },
    {
      "cell_type": "code",
      "source": [
        "# Plot the data\n",
        "train = AMZN[:training_data_len]\n",
        "valid = AMZN[training_data_len:]\n",
        "valid['Predictions'] = predictions\n",
        "# Visualize the data\n",
        "plt.figure(figsize=(16,6))\n",
        "plt.title('Model')\n",
        "plt.xlabel('Date', fontsize=18)\n",
        "plt.ylabel('Close Price USD ($)', fontsize=18)\n",
        "plt.plot(train['Close'])\n",
        "plt.plot(valid[['Close', 'Predictions']])\n",
        "plt.legend(['Train', 'Val', 'Predictions'], loc='lower right')\n",
        "plt.show()"
      ],
      "metadata": {
        "colab": {
          "base_uri": "https://localhost:8080/",
          "height": 514
        },
        "id": "b3DTg9esRUlq",
        "outputId": "0fc659f2-9f10-461d-d756-fba492001753"
      },
      "execution_count": 11,
      "outputs": [
        {
          "output_type": "stream",
          "name": "stderr",
          "text": [
            "<ipython-input-11-4f2f3bb78c72>:4: SettingWithCopyWarning: \n",
            "A value is trying to be set on a copy of a slice from a DataFrame.\n",
            "Try using .loc[row_indexer,col_indexer] = value instead\n",
            "\n",
            "See the caveats in the documentation: https://pandas.pydata.org/pandas-docs/stable/user_guide/indexing.html#returning-a-view-versus-a-copy\n",
            "  valid['Predictions'] = predictions\n"
          ]
        },
        {
          "output_type": "display_data",
          "data": {
            "text/plain": [
              "<Figure size 1152x432 with 1 Axes>"
            ],
            "image/png": "[encoded data removed]"
          },
          "metadata": {
            "needs_background": "light"
          }
        }
      ]
    },
    {
      "cell_type": "code",
      "source": [
        "valid"
      ],
      "metadata": {
        "colab": {
          "base_uri": "https://localhost:8080/",
          "height": 455
        },
        "id": "u86-qIv-RydC",
        "outputId": "2b94cbf3-e444-4488-cc0d-b788b8651fdc"
      },
      "execution_count": 12,
      "outputs": [
        {
          "output_type": "execute_result",
          "data": {
            "text/plain": [
              "                 Close  Predictions\n",
              "Date                               \n",
              "2022-06-24  116.459999   111.487740\n",
              "2022-06-27  113.220001   113.863403\n",
              "2022-06-28  107.400002   115.434532\n",
              "2022-06-29  108.919998   115.200630\n",
              "2022-06-30  106.209999   114.501564\n",
              "...                ...          ...\n",
              "2022-12-14   91.580002    93.497612\n",
              "2022-12-15   88.449997    93.990028\n",
              "2022-12-16   87.860001    93.807808\n",
              "2022-12-19   84.919998    93.245453\n",
              "2022-12-20   85.264999    92.060822\n",
              "\n",
              "[125 rows x 2 columns]"
            ],
            "text/html": [
              "\n",
              "  <div id=\"df-46ed6415-873b-460a-b51e-d0a91a7e897b\">\n",
              "    <div class=\"colab-df-container\">\n",
              "      <div>\n",
              "<style scoped>\n",
              "    .dataframe tbody tr th:only-of-type {\n",
              "        vertical-align: middle;\n",
              "    }\n",
              "\n",
              "    .dataframe tbody tr th {\n",
              "        vertical-align: top;\n",
              "    }\n",
              "\n",
              "    .dataframe thead th {\n",
              "        text-align: right;\n",
              "    }\n",
              "</style>\n",
              "<table border=\"1\" class=\"dataframe\">\n",
              "  <thead>\n",
              "    <tr style=\"text-align: right;\">\n",
              "      <th></th>\n",
              "      <th>Close</th>\n",
              "      <th>Predictions</th>\n",
              "    </tr>\n",
              "    <tr>\n",
              "      <th>Date</th>\n",
              "      <th></th>\n",
              "      <th></th>\n",
              "    </tr>\n",
              "  </thead>\n",
              "  <tbody>\n",
              "    <tr>\n",
              "      <th>2022-06-24</th>\n",
              "      <td>116.459999</td>\n",
              "      <td>111.487740</td>\n",
              "    </tr>\n",
              "    <tr>\n",
              "      <th>2022-06-27</th>\n",
              "      <td>113.220001</td>\n",
              "      <td>113.863403</td>\n",
              "    </tr>\n",
              "    <tr>\n",
              "      <th>2022-06-28</th>\n",
              "      <td>107.400002</td>\n",
              "      <td>115.434532</td>\n",
              "    </tr>\n",
              "    <tr>\n",
              "      <th>2022-06-29</th>\n",
              "      <td>108.919998</td>\n",
              "      <td>115.200630</td>\n",
              "    </tr>\n",
              "    <tr>\n",
              "      <th>2022-06-30</th>\n",
              "      <td>106.209999</td>\n",
              "      <td>114.501564</td>\n",
              "    </tr>\n",
              "    <tr>\n",
              "      <th>...</th>\n",
              "      <td>...</td>\n",
              "      <td>...</td>\n",
              "    </tr>\n",
              "    <tr>\n",
              "      <th>2022-12-14</th>\n",
              "      <td>91.580002</td>\n",
              "      <td>93.497612</td>\n",
              "    </tr>\n",
              "    <tr>\n",
              "      <th>2022-12-15</th>\n",
              "      <td>88.449997</td>\n",
              "      <td>93.990028</td>\n",
              "    </tr>\n",
              "    <tr>\n",
              "      <th>2022-12-16</th>\n",
              "      <td>87.860001</td>\n",
              "      <td>93.807808</td>\n",
              "    </tr>\n",
              "    <tr>\n",
              "      <th>2022-12-19</th>\n",
              "      <td>84.919998</td>\n",
              "      <td>93.245453</td>\n",
              "    </tr>\n",
              "    <tr>\n",
              "      <th>2022-12-20</th>\n",
              "      <td>85.264999</td>\n",
              "      <td>92.060822</td>\n",
              "    </tr>\n",
              "  </tbody>\n",
              "</table>\n",
              "<p>125 rows × 2 columns</p>\n",
              "</div>\n",
              "      <button class=\"colab-df-convert\" onclick=\"convertToInteractive('df-46ed6415-873b-460a-b51e-d0a91a7e897b')\"\n",
              "              title=\"Convert this dataframe to an interactive table.\"\n",
              "              style=\"display:none;\">\n",
              "        \n",
              "  <svg xmlns=\"http://www.w3.org/2000/svg\" height=\"24px\"viewBox=\"0 0 24 24\"\n",
              "       width=\"24px\">\n",
              "    <path d=\"M0 0h24v24H0V0z\" fill=\"none\"/>\n",
              "    <path d=\"M18.56 5.44l.94 2.06.94-2.06 2.06-.94-2.06-.94-.94-2.06-.94 2.06-2.06.94zm-11 1L8.5 8.5l.94-2.06 2.06-.94-2.06-.94L8.5 2.5l-.94 2.06-2.06.94zm10 10l.94 2.06.94-2.06 2.06-.94-2.06-.94-.94-2.06-.94 2.06-2.06.94z\"/><path d=\"M17.41 7.96l-1.37-1.37c-.4-.4-.92-.59-1.43-.59-.52 0-1.04.2-1.43.59L10.3 9.45l-7.72 7.72c-.78.78-.78 2.05 0 2.83L4 21.41c.39.39.9.59 1.41.59.51 0 1.02-.2 1.41-.59l7.78-7.78 2.81-2.81c.8-.78.8-2.07 0-2.86zM5.41 20L4 18.59l7.72-7.72 1.47 1.35L5.41 20z\"/>\n",
              "  </svg>\n",
              "      </button>\n",
              "      \n",
              "  <style>\n",
              "    .colab-df-container {\n",
              "      display:flex;\n",
              "      flex-wrap:wrap;\n",
              "      gap: 12px;\n",
              "    }\n",
              "\n",
              "    .colab-df-convert {\n",
              "      background-color: #E8F0FE;\n",
              "      border: none;\n",
              "      border-radius: 50%;\n",
              "      cursor: pointer;\n",
              "      display: none;\n",
              "      fill: #1967D2;\n",
              "      height: 32px;\n",
              "      padding: 0 0 0 0;\n",
              "      width: 32px;\n",
              "    }\n",
              "\n",
              "    .colab-df-convert:hover {\n",
              "      background-color: #E2EBFA;\n",
              "      box-shadow: 0px 1px 2px rgba(60, 64, 67, 0.3), 0px 1px 3px 1px rgba(60, 64, 67, 0.15);\n",
              "      fill: #174EA6;\n",
              "    }\n",
              "\n",
              "    [theme=dark] .colab-df-convert {\n",
              "      background-color: #3B4455;\n",
              "      fill: #D2E3FC;\n",
              "    }\n",
              "\n",
              "    [theme=dark] .colab-df-convert:hover {\n",
              "      background-color: #434B5C;\n",
              "      box-shadow: 0px 1px 3px 1px rgba(0, 0, 0, 0.15);\n",
              "      filter: drop-shadow(0px 1px 2px rgba(0, 0, 0, 0.3));\n",
              "      fill: #FFFFFF;\n",
              "    }\n",
              "  </style>\n",
              "\n",
              "      <script>\n",
              "        const buttonEl =\n",
              "          document.querySelector('#df-46ed6415-873b-460a-b51e-d0a91a7e897b button.colab-df-convert');\n",
              "        buttonEl.style.display =\n",
              "          google.colab.kernel.accessAllowed ? 'block' : 'none';\n",
              "\n",
              "        async function convertToInteractive(key) {\n",
              "          const element = document.querySelector('#df-46ed6415-873b-460a-b51e-d0a91a7e897b');\n",
              "          const dataTable =\n",
              "            await google.colab.kernel.invokeFunction('convertToInteractive',\n",
              "                                                     [key], {});\n",
              "          if (!dataTable) return;\n",
              "\n",
              "          const docLinkHtml = 'Like what you see? Visit the ' +\n",
              "            '<a target=\"_blank\" href=https://colab.research.google.com/notebooks/data_table.ipynb>data table notebook</a>'\n",
              "            + ' to learn more about interactive tables.';\n",
              "          element.innerHTML = '';\n",
              "          dataTable['output_type'] = 'display_data';\n",
              "          await google.colab.output.renderOutput(dataTable, element);\n",
              "          const docLink = document.createElement('div');\n",
              "          docLink.innerHTML = docLinkHtml;\n",
              "          element.appendChild(docLink);\n",
              "        }\n",
              "      </script>\n",
              "    </div>\n",
              "  </div>\n",
              "  "
            ]
          },
          "metadata": {},
          "execution_count": 12
        }
      ]
    },
    {
      "cell_type": "markdown",
      "source": [
        "## Making some tweaks"
      ],
      "metadata": {
        "id": "xIAaeORpSsJb"
      }
    },
    {
      "cell_type": "markdown",
      "source": [],
      "metadata": {
        "id": "qZHFw8TFXV4V"
      }
    },
    {
      "cell_type": "markdown",
      "source": [
        "Since most the work until now heavily follows the cited Kaggle post, the blocks below are things I tried to alter performance or use case."
      ],
      "metadata": {
        "id": "hgxNj1gZSud-"
      }
    },
    {
      "cell_type": "markdown",
      "source": [
        "### Change 1"
      ],
      "metadata": {
        "id": "DqnqULNmXUc1"
      }
    },
    {
      "cell_type": "markdown",
      "source": [
        "Tweaking model hyper paramters and comparing root mean squared error (RMSE)."
      ],
      "metadata": {
        "id": "GjyfAOWIS6ax"
      }
    },
    {
      "cell_type": "code",
      "source": [
        "# Build the LSTM model\n",
        "model = Sequential()\n",
        "model.add(LSTM(128, return_sequences=True,  input_shape= (x_train.shape[1], 1)))\n",
        "model.add(LSTM(64, return_sequences=False))\n",
        "model.add(Dense(50))\n",
        "model.add(Dense(25))\n",
        "model.add(Dense(1))\n",
        "\n",
        "# Compile the model\n",
        "model.compile(optimizer='adam', loss='mean_squared_error')\n",
        "\n",
        "# Train the model\n",
        "model.fit(x_train, y_train, batch_size=1, epochs=5)"
      ],
      "metadata": {
        "colab": {
          "base_uri": "https://localhost:8080/"
        },
        "id": "lujpkT-bS5rC",
        "outputId": "1d0db4e0-82fc-4dc0-ddd7-3aeede7eaa67"
      },
      "execution_count": 26,
      "outputs": [
        {
          "output_type": "stream",
          "name": "stdout",
          "text": [
            "Epoch 1/5\n",
            "2333/2333 [==============================] - 24s 9ms/step - loss: 0.0021\n",
            "Epoch 2/5\n",
            "2333/2333 [==============================] - 20s 9ms/step - loss: 9.6556e-04\n",
            "Epoch 3/5\n",
            "2333/2333 [==============================] - 20s 9ms/step - loss: 9.6905e-04\n",
            "Epoch 4/5\n",
            "2333/2333 [==============================] - 20s 9ms/step - loss: 4.1060e-04\n",
            "Epoch 5/5\n",
            "2333/2333 [==============================] - 20s 9ms/step - loss: 4.6042e-04\n"
          ]
        },
        {
          "output_type": "execute_result",
          "data": {
            "text/plain": [
              "<keras.callbacks.History at 0x7f3ddaf2dd90>"
            ]
          },
          "metadata": {},
          "execution_count": 26
        }
      ]
    },
    {
      "cell_type": "code",
      "source": [
        "# Create the testing data set\n",
        "# Create a new array containing scaled values from index 1543 to 2002 \n",
        "test_data = scaled_data[training_data_len - 60: , :]\n",
        "# Create the data sets x_test and y_test\n",
        "x_test = []\n",
        "y_test = dataset[training_data_len:, :]\n",
        "for i in range(60, len(test_data)):\n",
        "    x_test.append(test_data[i-60:i, 0])\n",
        "    \n",
        "# Convert the data to a numpy array\n",
        "x_test = np.array(x_test)\n",
        "\n",
        "# Reshape the data\n",
        "x_test = np.reshape(x_test, (x_test.shape[0], x_test.shape[1], 1 ))\n",
        "\n",
        "# Get the models predicted price values \n",
        "predictions = model.predict(x_test)\n",
        "predictions = scaler.inverse_transform(predictions)\n",
        "\n",
        "# Get the root mean squared error (RMSE)\n",
        "rmse = np.sqrt(np.mean(((predictions - y_test) ** 2)))\n",
        "rmse"
      ],
      "metadata": {
        "colab": {
          "base_uri": "https://localhost:8080/"
        },
        "id": "jaFQaImETfPr",
        "outputId": "0d426b53-efbb-498f-90a6-6b948c6b3d01"
      },
      "execution_count": 27,
      "outputs": [
        {
          "output_type": "stream",
          "name": "stdout",
          "text": [
            "4/4 [==============================] - 1s 6ms/step\n"
          ]
        },
        {
          "output_type": "execute_result",
          "data": {
            "text/plain": [
              "4.658552564560795"
            ]
          },
          "metadata": {},
          "execution_count": 27
        }
      ]
    },
    {
      "cell_type": "markdown",
      "source": [
        "Here I added an extra dense layer with 50 nodes immediately after the LSTM layers, and I had the model train for 5 epochs rather than 1. As a result, RMSE on the valid set has dropped from 6.32 to 4.66."
      ],
      "metadata": {
        "id": "q9cGQEyGWEql"
      }
    },
    {
      "cell_type": "markdown",
      "source": [
        "Visual inspection of model's predictions of valid set:"
      ],
      "metadata": {
        "id": "aDoC1EykWcUA"
      }
    },
    {
      "cell_type": "code",
      "source": [
        "# Plot the data\n",
        "train = AMZN[:training_data_len]\n",
        "valid = AMZN[training_data_len:]\n",
        "valid['Predictions'] = predictions\n",
        "# Visualize the data\n",
        "plt.figure(figsize=(16,6))\n",
        "plt.title('Model')\n",
        "plt.xlabel('Date', fontsize=18)\n",
        "plt.ylabel('Close Price USD ($)', fontsize=18)\n",
        "plt.plot(train['Close'])\n",
        "plt.plot(valid[['Close', 'Predictions']])\n",
        "plt.legend(['Train', 'Val', 'Predictions'], loc='lower right')\n",
        "plt.show()"
      ],
      "metadata": {
        "colab": {
          "base_uri": "https://localhost:8080/",
          "height": 514
        },
        "id": "-6kBH0A2WgdW",
        "outputId": "e17a33d0-0f6f-4efc-fa63-a30dc22846e5"
      },
      "execution_count": 28,
      "outputs": [
        {
          "output_type": "stream",
          "name": "stderr",
          "text": [
            "<ipython-input-28-4f2f3bb78c72>:4: SettingWithCopyWarning: \n",
            "A value is trying to be set on a copy of a slice from a DataFrame.\n",
            "Try using .loc[row_indexer,col_indexer] = value instead\n",
            "\n",
            "See the caveats in the documentation: https://pandas.pydata.org/pandas-docs/stable/user_guide/indexing.html#returning-a-view-versus-a-copy\n",
            "  valid['Predictions'] = predictions\n"
          ]
        },
        {
          "output_type": "display_data",
          "data": {
            "text/plain": [
              "<Figure size 1152x432 with 1 Axes>"
            ],
            "image/png": "[encoded data removed]"
          },
          "metadata": {
            "needs_background": "light"
          }
        }
      ]
    },
    {
      "cell_type": "markdown",
      "source": [
        "The predictions and valid line overlap even more tightly before, showing the new architecture/extra training time clearly improved model accuracy."
      ],
      "metadata": {
        "id": "o8XvV7n7Wmqa"
      }
    },
    {
      "cell_type": "markdown",
      "source": [
        "### Change 2"
      ],
      "metadata": {
        "id": "AFWGhlz_XYye"
      }
    },
    {
      "cell_type": "markdown",
      "source": [
        "Next, I wanted to see if this approach to price prediction could be applied to alternate time frames. Up until now we've always had a data resolution of 1 trading day (1 data point for each day, that is the closing price of that day). If the model can have comparable performance on a finer resolution, such as a datapoint every 1 hour or 15 minutes, the approach might be suitable for daytrading."
      ],
      "metadata": {
        "id": "ZF5J9P9xXaQd"
      }
    },
    {
      "cell_type": "code",
      "source": [
        "import pandas as pd\n",
        "import numpy as np\n",
        "\n",
        "import matplotlib.pyplot as plt\n",
        "import seaborn as sns\n",
        "sns.set_style('whitegrid')\n",
        "plt.style.use(\"fivethirtyeight\")\n",
        "%matplotlib inline\n",
        "\n",
        "# For reading stock data from yahoo\n",
        "from pandas_datareader.data import DataReader\n",
        "import yfinance as yf\n",
        "\n",
        "# For time stamps\n",
        "from datetime import datetime\n",
        "\n",
        "\n",
        "# The tech stocks we'll use for this analysis\n",
        "tech_list = ['AAPL', 'GOOG', 'MSFT', 'AMZN']\n",
        "\n",
        "# Set up End and Start times for data grab\n",
        "tech_list = ['AAPL', 'GOOG', 'MSFT', 'AMZN']\n",
        "\n",
        "end = datetime.now()\n",
        "start = datetime(end.year-1, end.month, end.day)\n",
        "\n",
        "for stock in tech_list:\n",
        "    globals()[stock] = yf.download(stock, start, end, interval='60m')\n",
        "    \n",
        "\n",
        "company_list = [AAPL, GOOG, MSFT, AMZN]\n",
        "company_name = [\"APPLE\", \"GOOGLE\", \"MICROSOFT\", \"AMAZON\"]\n",
        "\n",
        "for company, com_name in zip(company_list, company_name):\n",
        "    company[\"company_name\"] = com_name\n",
        "    \n",
        "df = pd.concat(company_list, axis=0)\n",
        "df.head(10)"
      ],
      "metadata": {
        "id": "4n0IT030XQa1",
        "outputId": "0dcca77d-202f-44b7-a715-d8ef5246d39a",
        "colab": {
          "base_uri": "https://localhost:8080/",
          "height": 446
        }
      },
      "execution_count": 33,
      "outputs": [
        {
          "output_type": "stream",
          "name": "stdout",
          "text": [
            "[*********************100%***********************]  1 of 1 completed\n",
            "[*********************100%***********************]  1 of 1 completed\n",
            "[*********************100%***********************]  1 of 1 completed\n"
          ]
        },
        {
          "output_type": "execute_result",
          "data": {
            "text/plain": [
              "                           Open        High         Low       Close  \\\n",
              "Datetime                                                              \n",
              "2021-12-20 09:30:00  168.279999  169.930099  167.460007  167.945007   \n",
              "2021-12-20 10:30:00  167.940002  169.148407  167.730103  168.729996   \n",
              "2021-12-20 11:30:00  168.729996  170.580002  168.309998  170.104996   \n",
              "2021-12-20 12:30:00  170.100006  170.134995  168.820007  169.421600   \n",
              "2021-12-20 13:30:00  169.421005  170.289993  169.184998  169.598404   \n",
              "2021-12-20 14:30:00  169.589996  170.429993  169.360001  169.779999   \n",
              "2021-12-20 15:30:00  169.770004  170.190002  169.089996  169.910004   \n",
              "2021-12-21 09:30:00  171.554993  172.279999  169.350006  169.572906   \n",
              "2021-12-21 10:30:00  169.585007  170.699997  169.119995  170.299103   \n",
              "2021-12-21 11:30:00  170.300003  171.539993  170.139999  171.485001   \n",
              "\n",
              "                      Adj Close    Volume company_name  \n",
              "Datetime                                                \n",
              "2021-12-20 09:30:00  167.945007  26790703        APPLE  \n",
              "2021-12-20 10:30:00  168.729996  14012592        APPLE  \n",
              "2021-12-20 11:30:00  170.104996  12464735        APPLE  \n",
              "2021-12-20 12:30:00  169.421600   9234913        APPLE  \n",
              "2021-12-20 13:30:00  169.598404   9490330        APPLE  \n",
              "2021-12-20 14:30:00  169.779999   9268551        APPLE  \n",
              "2021-12-20 15:30:00  169.910004  10243967        APPLE  \n",
              "2021-12-21 09:30:00  169.572906  21794239        APPLE  \n",
              "2021-12-21 10:30:00  170.299103  10926527        APPLE  \n",
              "2021-12-21 11:30:00  171.485001   9628582        APPLE  "
            ],
            "text/html": [
              "\n",
              "  <div id=\"df-d9de035c-3659-4e8f-89c4-a402ebfa7bf8\">\n",
              "    <div class=\"colab-df-container\">\n",
              "      <div>\n",
              "<style scoped>\n",
              "    .dataframe tbody tr th:only-of-type {\n",
              "        vertical-align: middle;\n",
              "    }\n",
              "\n",
              "    .dataframe tbody tr th {\n",
              "        vertical-align: top;\n",
              "    }\n",
              "\n",
              "    .dataframe thead th {\n",
              "        text-align: right;\n",
              "    }\n",
              "</style>\n",
              "<table border=\"1\" class=\"dataframe\">\n",
              "  <thead>\n",
              "    <tr style=\"text-align: right;\">\n",
              "      <th></th>\n",
              "      <th>Open</th>\n",
              "      <th>High</th>\n",
              "      <th>Low</th>\n",
              "      <th>Close</th>\n",
              "      <th>Adj Close</th>\n",
              "      <th>Volume</th>\n",
              "      <th>company_name</th>\n",
              "    </tr>\n",
              "    <tr>\n",
              "      <th>Datetime</th>\n",
              "      <th></th>\n",
              "      <th></th>\n",
              "      <th></th>\n",
              "      <th></th>\n",
              "      <th></th>\n",
              "      <th></th>\n",
              "      <th></th>\n",
              "    </tr>\n",
              "  </thead>\n",
              "  <tbody>\n",
              "    <tr>\n",
              "      <th>2021-12-20 09:30:00</th>\n",
              "      <td>168.279999</td>\n",
              "      <td>169.930099</td>\n",
              "      <td>167.460007</td>\n",
              "      <td>167.945007</td>\n",
              "      <td>167.945007</td>\n",
              "      <td>26790703</td>\n",
              "      <td>APPLE</td>\n",
              "    </tr>\n",
              "    <tr>\n",
              "      <th>2021-12-20 10:30:00</th>\n",
              "      <td>167.940002</td>\n",
              "      <td>169.148407</td>\n",
              "      <td>167.730103</td>\n",
              "      <td>168.729996</td>\n",
              "      <td>168.729996</td>\n",
              "      <td>14012592</td>\n",
              "      <td>APPLE</td>\n",
              "    </tr>\n",
              "    <tr>\n",
              "      <th>2021-12-20 11:30:00</th>\n",
              "      <td>168.729996</td>\n",
              "      <td>170.580002</td>\n",
              "      <td>168.309998</td>\n",
              "      <td>170.104996</td>\n",
              "      <td>170.104996</td>\n",
              "      <td>12464735</td>\n",
              "      <td>APPLE</td>\n",
              "    </tr>\n",
              "    <tr>\n",
              "      <th>2021-12-20 12:30:00</th>\n",
              "      <td>170.100006</td>\n",
              "      <td>170.134995</td>\n",
              "      <td>168.820007</td>\n",
              "      <td>169.421600</td>\n",
              "      <td>169.421600</td>\n",
              "      <td>9234913</td>\n",
              "      <td>APPLE</td>\n",
              "    </tr>\n",
              "    <tr>\n",
              "      <th>2021-12-20 13:30:00</th>\n",
              "      <td>169.421005</td>\n",
              "      <td>170.289993</td>\n",
              "      <td>169.184998</td>\n",
              "      <td>169.598404</td>\n",
              "      <td>169.598404</td>\n",
              "      <td>9490330</td>\n",
              "      <td>APPLE</td>\n",
              "    </tr>\n",
              "    <tr>\n",
              "      <th>2021-12-20 14:30:00</th>\n",
              "      <td>169.589996</td>\n",
              "      <td>170.429993</td>\n",
              "      <td>169.360001</td>\n",
              "      <td>169.779999</td>\n",
              "      <td>169.779999</td>\n",
              "      <td>9268551</td>\n",
              "      <td>APPLE</td>\n",
              "    </tr>\n",
              "    <tr>\n",
              "      <th>2021-12-20 15:30:00</th>\n",
              "      <td>169.770004</td>\n",
              "      <td>170.190002</td>\n",
              "      <td>169.089996</td>\n",
              "      <td>169.910004</td>\n",
              "      <td>169.910004</td>\n",
              "      <td>10243967</td>\n",
              "      <td>APPLE</td>\n",
              "    </tr>\n",
              "    <tr>\n",
              "      <th>2021-12-21 09:30:00</th>\n",
              "      <td>171.554993</td>\n",
              "      <td>172.279999</td>\n",
              "      <td>169.350006</td>\n",
              "      <td>169.572906</td>\n",
              "      <td>169.572906</td>\n",
              "      <td>21794239</td>\n",
              "      <td>APPLE</td>\n",
              "    </tr>\n",
              "    <tr>\n",
              "      <th>2021-12-21 10:30:00</th>\n",
              "      <td>169.585007</td>\n",
              "      <td>170.699997</td>\n",
              "      <td>169.119995</td>\n",
              "      <td>170.299103</td>\n",
              "      <td>170.299103</td>\n",
              "      <td>10926527</td>\n",
              "      <td>APPLE</td>\n",
              "    </tr>\n",
              "    <tr>\n",
              "      <th>2021-12-21 11:30:00</th>\n",
              "      <td>170.300003</td>\n",
              "      <td>171.539993</td>\n",
              "      <td>170.139999</td>\n",
              "      <td>171.485001</td>\n",
              "      <td>171.485001</td>\n",
              "      <td>9628582</td>\n",
              "      <td>APPLE</td>\n",
              "    </tr>\n",
              "  </tbody>\n",
              "</table>\n",
              "</div>\n",
              "      <button class=\"colab-df-convert\" onclick=\"convertToInteractive('df-d9de035c-3659-4e8f-89c4-a402ebfa7bf8')\"\n",
              "              title=\"Convert this dataframe to an interactive table.\"\n",
              "              style=\"display:none;\">\n",
              "        \n",
              "  <svg xmlns=\"http://www.w3.org/2000/svg\" height=\"24px\"viewBox=\"0 0 24 24\"\n",
              "       width=\"24px\">\n",
              "    <path d=\"M0 0h24v24H0V0z\" fill=\"none\"/>\n",
              "    <path d=\"M18.56 5.44l.94 2.06.94-2.06 2.06-.94-2.06-.94-.94-2.06-.94 2.06-2.06.94zm-11 1L8.5 8.5l.94-2.06 2.06-.94-2.06-.94L8.5 2.5l-.94 2.06-2.06.94zm10 10l.94 2.06.94-2.06 2.06-.94-2.06-.94-.94-2.06-.94 2.06-2.06.94z\"/><path d=\"M17.41 7.96l-1.37-1.37c-.4-.4-.92-.59-1.43-.59-.52 0-1.04.2-1.43.59L10.3 9.45l-7.72 7.72c-.78.78-.78 2.05 0 2.83L4 21.41c.39.39.9.59 1.41.59.51 0 1.02-.2 1.41-.59l7.78-7.78 2.81-2.81c.8-.78.8-2.07 0-2.86zM5.41 20L4 18.59l7.72-7.72 1.47 1.35L5.41 20z\"/>\n",
              "  </svg>\n",
              "      </button>\n",
              "      \n",
              "  <style>\n",
              "    .colab-df-container {\n",
              "      display:flex;\n",
              "      flex-wrap:wrap;\n",
              "      gap: 12px;\n",
              "    }\n",
              "\n",
              "    .colab-df-convert {\n",
              "      background-color: #E8F0FE;\n",
              "      border: none;\n",
              "      border-radius: 50%;\n",
              "      cursor: pointer;\n",
              "      display: none;\n",
              "      fill: #1967D2;\n",
              "      height: 32px;\n",
              "      padding: 0 0 0 0;\n",
              "      width: 32px;\n",
              "    }\n",
              "\n",
              "    .colab-df-convert:hover {\n",
              "      background-color: #E2EBFA;\n",
              "      box-shadow: 0px 1px 2px rgba(60, 64, 67, 0.3), 0px 1px 3px 1px rgba(60, 64, 67, 0.15);\n",
              "      fill: #174EA6;\n",
              "    }\n",
              "\n",
              "    [theme=dark] .colab-df-convert {\n",
              "      background-color: #3B4455;\n",
              "      fill: #D2E3FC;\n",
              "    }\n",
              "\n",
              "    [theme=dark] .colab-df-convert:hover {\n",
              "      background-color: #434B5C;\n",
              "      box-shadow: 0px 1px 3px 1px rgba(0, 0, 0, 0.15);\n",
              "      filter: drop-shadow(0px 1px 2px rgba(0, 0, 0, 0.3));\n",
              "      fill: #FFFFFF;\n",
              "    }\n",
              "  </style>\n",
              "\n",
              "      <script>\n",
              "        const buttonEl =\n",
              "          document.querySelector('#df-d9de035c-3659-4e8f-89c4-a402ebfa7bf8 button.colab-df-convert');\n",
              "        buttonEl.style.display =\n",
              "          google.colab.kernel.accessAllowed ? 'block' : 'none';\n",
              "\n",
              "        async function convertToInteractive(key) {\n",
              "          const element = document.querySelector('#df-d9de035c-3659-4e8f-89c4-a402ebfa7bf8');\n",
              "          const dataTable =\n",
              "            await google.colab.kernel.invokeFunction('convertToInteractive',\n",
              "                                                     [key], {});\n",
              "          if (!dataTable) return;\n",
              "\n",
              "          const docLinkHtml = 'Like what you see? Visit the ' +\n",
              "            '<a target=\"_blank\" href=https://colab.research.google.com/notebooks/data_table.ipynb>data table notebook</a>'\n",
              "            + ' to learn more about interactive tables.';\n",
              "          element.innerHTML = '';\n",
              "          dataTable['output_type'] = 'display_data';\n",
              "          await google.colab.output.renderOutput(dataTable, element);\n",
              "          const docLink = document.createElement('div');\n",
              "          docLink.innerHTML = docLinkHtml;\n",
              "          element.appendChild(docLink);\n",
              "        }\n",
              "      </script>\n",
              "    </div>\n",
              "  </div>\n",
              "  "
            ]
          },
          "metadata": {},
          "execution_count": 33
        }
      ]
    },
    {
      "cell_type": "markdown",
      "source": [
        "Closing graphs on new resolution"
      ],
      "metadata": {
        "id": "ksmak3Qvbdgh"
      }
    },
    {
      "cell_type": "code",
      "source": [
        "# Let's see a historical view of the closing price\n",
        "plt.figure(figsize=(15, 10))\n",
        "plt.subplots_adjust(top=1.25, bottom=1.2)\n",
        "\n",
        "for i, company in enumerate(company_list, 1):\n",
        "    plt.subplot(2, 2, i)\n",
        "    company['Adj Close'].plot()\n",
        "    plt.ylabel('Adj Close')\n",
        "    plt.xlabel(None)\n",
        "    plt.title(f\"Closing Price of {tech_list[i - 1]}\")\n",
        "    \n",
        "plt.tight_layout()"
      ],
      "metadata": {
        "id": "ZEnSUVgLbfXQ",
        "outputId": "8a0f381e-97e1-451b-ccf4-118ba0311d8b",
        "colab": {
          "base_uri": "https://localhost:8080/",
          "height": 729
        }
      },
      "execution_count": 34,
      "outputs": [
        {
          "output_type": "display_data",
          "data": {
            "text/plain": [
              "<Figure size 1080x720 with 4 Axes>"
            ],
            "image/png": "[encoded data removed]"
          },
          "metadata": {
            "needs_background": "light"
          }
        }
      ]
    },
    {
      "cell_type": "markdown",
      "source": [
        "First intuition is that, while there's still trend, the graphs look slightly noisier on this higher resolution, so I expect this will hurt model performance."
      ],
      "metadata": {
        "id": "nXJwx6ECboZz"
      }
    },
    {
      "cell_type": "code",
      "source": [
        "AMZN = AMZN.filter(['Close'])\n",
        "dataset = AMZN.values\n",
        "# Get the number of rows to train the model on\n",
        "training_data_len = int(np.ceil( len(dataset) * .95 ))\n",
        "training_data_len"
      ],
      "metadata": {
        "colab": {
          "base_uri": "https://localhost:8080/"
        },
        "outputId": "c9b54ed8-e2a7-48fa-b53b-51ad178125c0",
        "id": "eMyX1Lu-b5J_"
      },
      "execution_count": 35,
      "outputs": [
        {
          "output_type": "execute_result",
          "data": {
            "text/plain": [
              "1680"
            ]
          },
          "metadata": {},
          "execution_count": 35
        }
      ]
    },
    {
      "cell_type": "code",
      "source": [
        "# Scale the data\n",
        "from sklearn.preprocessing import MinMaxScaler\n",
        "\n",
        "scaler = MinMaxScaler(feature_range=(0,1))\n",
        "scaled_data = scaler.fit_transform(dataset)\n",
        "\n",
        "scaled_data"
      ],
      "metadata": {
        "colab": {
          "base_uri": "https://localhost:8080/"
        },
        "outputId": "fae8572a-7d04-4710-dcb6-b582f3d7e6a4",
        "id": "8UM5Og2ocCk3"
      },
      "execution_count": 36,
      "outputs": [
        {
          "output_type": "execute_result",
          "data": {
            "text/plain": [
              "array([[0.94370936],\n",
              "       [0.93191839],\n",
              "       [0.93461733],\n",
              "       ...,\n",
              "       [0.00814742],\n",
              "       [0.00717646],\n",
              "       [0.00608997]])"
            ]
          },
          "metadata": {},
          "execution_count": 36
        }
      ]
    },
    {
      "cell_type": "code",
      "source": [
        "# Create the training data set \n",
        "# Create the scaled training data set\n",
        "train_data = scaled_data[0:int(training_data_len), :]\n",
        "# Split the data into x_train and y_train data sets\n",
        "x_train = []\n",
        "y_train = []\n",
        "\n",
        "for i in range(60, len(train_data)):\n",
        "    x_train.append(train_data[i-60:i, 0])\n",
        "    y_train.append(train_data[i, 0])\n",
        "    if i<= 61:\n",
        "        print(x_train)\n",
        "        print(y_train)\n",
        "        print()\n",
        "        \n",
        "# Convert the x_train and y_train to numpy arrays \n",
        "x_train, y_train = np.array(x_train), np.array(y_train)\n",
        "\n",
        "# Reshape the data\n",
        "x_train = np.reshape(x_train, (x_train.shape[0], x_train.shape[1], 1))\n",
        "# x_train.shape"
      ],
      "metadata": {
        "colab": {
          "base_uri": "https://localhost:8080/"
        },
        "outputId": "0de758ee-1008-4ca4-c067-6d4792ce5324",
        "id": "hnnlmaDZcMpV"
      },
      "execution_count": 37,
      "outputs": [
        {
          "output_type": "stream",
          "name": "stdout",
          "text": [
            "[array([0.94370936, 0.93191839, 0.93461733, 0.93666448, 0.9402569 ,\n",
            "       0.9397695 , 0.94283438, 0.92899416, 0.94391528, 0.96104287,\n",
            "       0.96950458, 0.97737855, 0.97561742, 0.98044919, 0.97449655,\n",
            "       0.99523681, 0.99252059, 0.97909798, 0.9709626 , 0.97936288,\n",
            "       0.98807745, 0.98414893, 0.99364704, 0.99097097, 0.99670913,\n",
            "       0.98970509, 0.98954698, 0.98732829, 0.98758865, 0.9869332 ,\n",
            "       0.97882522, 0.9783106 , 0.97331287, 0.97276962, 0.97242654,\n",
            "       0.98588459, 1.        , 0.98910391, 0.98617601, 0.98207333,\n",
            "       0.98491519, 0.98358283, 0.96633936, 0.96748029, 0.96256563,\n",
            "       0.96244818, 0.96838965, 0.96734295, 0.96630795, 0.9817416 ,\n",
            "       0.97940563, 0.97540871, 0.97898821, 0.97478816, 0.97039073,\n",
            "       0.96052668, 0.95495691, 0.95537451, 0.94899311, 0.94989078])]\n",
            "[0.9464770534423239]\n",
            "\n",
            "[array([0.94370936, 0.93191839, 0.93461733, 0.93666448, 0.9402569 ,\n",
            "       0.9397695 , 0.94283438, 0.92899416, 0.94391528, 0.96104287,\n",
            "       0.96950458, 0.97737855, 0.97561742, 0.98044919, 0.97449655,\n",
            "       0.99523681, 0.99252059, 0.97909798, 0.9709626 , 0.97936288,\n",
            "       0.98807745, 0.98414893, 0.99364704, 0.99097097, 0.99670913,\n",
            "       0.98970509, 0.98954698, 0.98732829, 0.98758865, 0.9869332 ,\n",
            "       0.97882522, 0.9783106 , 0.97331287, 0.97276962, 0.97242654,\n",
            "       0.98588459, 1.        , 0.98910391, 0.98617601, 0.98207333,\n",
            "       0.98491519, 0.98358283, 0.96633936, 0.96748029, 0.96256563,\n",
            "       0.96244818, 0.96838965, 0.96734295, 0.96630795, 0.9817416 ,\n",
            "       0.97940563, 0.97540871, 0.97898821, 0.97478816, 0.97039073,\n",
            "       0.96052668, 0.95495691, 0.95537451, 0.94899311, 0.94989078]), array([0.93191839, 0.93461733, 0.93666448, 0.9402569 , 0.9397695 ,\n",
            "       0.94283438, 0.92899416, 0.94391528, 0.96104287, 0.96950458,\n",
            "       0.97737855, 0.97561742, 0.98044919, 0.97449655, 0.99523681,\n",
            "       0.99252059, 0.97909798, 0.9709626 , 0.97936288, 0.98807745,\n",
            "       0.98414893, 0.99364704, 0.99097097, 0.99670913, 0.98970509,\n",
            "       0.98954698, 0.98732829, 0.98758865, 0.9869332 , 0.97882522,\n",
            "       0.9783106 , 0.97331287, 0.97276962, 0.97242654, 0.98588459,\n",
            "       1.        , 0.98910391, 0.98617601, 0.98207333, 0.98491519,\n",
            "       0.98358283, 0.96633936, 0.96748029, 0.96256563, 0.96244818,\n",
            "       0.96838965, 0.96734295, 0.96630795, 0.9817416 , 0.97940563,\n",
            "       0.97540871, 0.97898821, 0.97478816, 0.97039073, 0.96052668,\n",
            "       0.95495691, 0.95537451, 0.94899311, 0.94989078, 0.94647705])]\n",
            "[0.9464770534423239, 0.9431432559181712]\n",
            "\n"
          ]
        }
      ]
    },
    {
      "cell_type": "markdown",
      "source": [
        "Train on new data resolution, using the apparent improvements from my first change to model configuration."
      ],
      "metadata": {
        "id": "ZwGnPiKLcWTM"
      }
    },
    {
      "cell_type": "code",
      "source": [
        "# Build the LSTM model\n",
        "model = Sequential()\n",
        "model.add(LSTM(128, return_sequences=True,  input_shape= (x_train.shape[1], 1)))\n",
        "model.add(LSTM(64, return_sequences=False))\n",
        "model.add(Dense(50))\n",
        "model.add(Dense(25))\n",
        "model.add(Dense(1))\n",
        "\n",
        "# Compile the model\n",
        "model.compile(optimizer='adam', loss='mean_squared_error')\n",
        "\n",
        "# Train the model\n",
        "model.fit(x_train, y_train, batch_size=1, epochs=5)"
      ],
      "metadata": {
        "colab": {
          "base_uri": "https://localhost:8080/"
        },
        "outputId": "d1798cad-77e8-488d-e51a-c8694f20608e",
        "id": "BJhdLY2bchX5"
      },
      "execution_count": 38,
      "outputs": [
        {
          "output_type": "stream",
          "name": "stdout",
          "text": [
            "Epoch 1/5\n",
            "1620/1620 [==============================] - 18s 9ms/step - loss: 0.0029\n",
            "Epoch 2/5\n",
            "1620/1620 [==============================] - 17s 10ms/step - loss: 0.0011\n",
            "Epoch 3/5\n",
            "1620/1620 [==============================] - 15s 9ms/step - loss: 8.8982e-04\n",
            "Epoch 4/5\n",
            "1620/1620 [==============================] - 15s 9ms/step - loss: 7.9150e-04\n",
            "Epoch 5/5\n",
            "1620/1620 [==============================] - 14s 9ms/step - loss: 7.1829e-04\n"
          ]
        },
        {
          "output_type": "execute_result",
          "data": {
            "text/plain": [
              "<keras.callbacks.History at 0x7f3dd96ce9d0>"
            ]
          },
          "metadata": {},
          "execution_count": 38
        }
      ]
    },
    {
      "cell_type": "markdown",
      "source": [
        "Test, get RMSE:"
      ],
      "metadata": {
        "id": "TR3IzOo_clUp"
      }
    },
    {
      "cell_type": "code",
      "source": [
        "# Create the testing data set\n",
        "# Create a new array containing scaled values from index 1543 to 2002 \n",
        "test_data = scaled_data[training_data_len - 60: , :]\n",
        "# Create the data sets x_test and y_test\n",
        "x_test = []\n",
        "y_test = dataset[training_data_len:, :]\n",
        "for i in range(60, len(test_data)):\n",
        "    x_test.append(test_data[i-60:i, 0])\n",
        "    \n",
        "# Convert the data to a numpy array\n",
        "x_test = np.array(x_test)\n",
        "\n",
        "# Reshape the data\n",
        "x_test = np.reshape(x_test, (x_test.shape[0], x_test.shape[1], 1 ))\n",
        "\n",
        "# Get the models predicted price values \n",
        "predictions = model.predict(x_test)\n",
        "predictions = scaler.inverse_transform(predictions)\n",
        "\n",
        "# Get the root mean squared error (RMSE)\n",
        "rmse = np.sqrt(np.mean(((predictions - y_test) ** 2)))\n",
        "rmse"
      ],
      "metadata": {
        "colab": {
          "base_uri": "https://localhost:8080/"
        },
        "outputId": "5d793880-1509-4452-f84c-54e23ba5a647",
        "id": "nzmdyo9fcnTF"
      },
      "execution_count": 39,
      "outputs": [
        {
          "output_type": "stream",
          "name": "stdout",
          "text": [
            "3/3 [==============================] - 1s 6ms/step\n"
          ]
        },
        {
          "output_type": "execute_result",
          "data": {
            "text/plain": [
              "1.6070204164008401"
            ]
          },
          "metadata": {},
          "execution_count": 39
        }
      ]
    },
    {
      "cell_type": "markdown",
      "source": [
        "Visual comparison:"
      ],
      "metadata": {
        "id": "Z5wNwUuFcsBq"
      }
    },
    {
      "cell_type": "code",
      "source": [
        "# Plot the data\n",
        "train = AMZN[:training_data_len]\n",
        "valid = AMZN[training_data_len:]\n",
        "valid['Predictions'] = predictions\n",
        "# Visualize the data\n",
        "plt.figure(figsize=(16,6))\n",
        "plt.title('Model')\n",
        "plt.xlabel('Date', fontsize=18)\n",
        "plt.ylabel('Close Price USD ($)', fontsize=18)\n",
        "plt.plot(train['Close'])\n",
        "plt.plot(valid[['Close', 'Predictions']])\n",
        "plt.legend(['Train', 'Val', 'Predictions'], loc='upper right')\n",
        "plt.show()"
      ],
      "metadata": {
        "outputId": "43a24a22-8558-431f-fa05-fa78452073ed",
        "colab": {
          "base_uri": "https://localhost:8080/",
          "height": 514
        },
        "id": "54V-wxJvcuS1"
      },
      "execution_count": 41,
      "outputs": [
        {
          "output_type": "stream",
          "name": "stderr",
          "text": [
            "<ipython-input-41-b24206e9fb77>:4: SettingWithCopyWarning: \n",
            "A value is trying to be set on a copy of a slice from a DataFrame.\n",
            "Try using .loc[row_indexer,col_indexer] = value instead\n",
            "\n",
            "See the caveats in the documentation: https://pandas.pydata.org/pandas-docs/stable/user_guide/indexing.html#returning-a-view-versus-a-copy\n",
            "  valid['Predictions'] = predictions\n"
          ]
        },
        {
          "output_type": "display_data",
          "data": {
            "text/plain": [
              "<Figure size 1152x432 with 1 Axes>"
            ],
            "image/png": "[encoded data removed]"
          },
          "metadata": {
            "needs_background": "light"
          }
        }
      ]
    },
    {
      "cell_type": "code",
      "source": [
        "valid"
      ],
      "metadata": {
        "id": "wH4yIXWcdauL",
        "outputId": "832d1afd-0391-4243-cdaf-539bddc7bfe7",
        "colab": {
          "base_uri": "https://localhost:8080/",
          "height": 455
        }
      },
      "execution_count": 42,
      "outputs": [
        {
          "output_type": "execute_result",
          "data": {
            "text/plain": [
              "                         Close  Predictions\n",
              "Datetime                                   \n",
              "2022-12-02 12:30:00  94.434998    95.816162\n",
              "2022-12-02 13:30:00  94.195000    95.804161\n",
              "2022-12-02 14:30:00  94.195000    95.596809\n",
              "2022-12-02 15:30:00  94.120003    95.569344\n",
              "2022-12-05 09:30:00  92.684998    95.497490\n",
              "...                        ...          ...\n",
              "2022-12-20 11:30:00  85.404999    86.069008\n",
              "2022-12-20 12:30:00  85.589897    86.537277\n",
              "2022-12-20 13:30:00  85.369904    86.742760\n",
              "2022-12-20 14:30:00  85.285004    86.584694\n",
              "2022-12-20 15:30:00  85.190002    86.492104\n",
              "\n",
              "[88 rows x 2 columns]"
            ],
            "text/html": [
              "\n",
              "  <div id=\"df-2632ad63-b4e0-49ba-833b-77f81de4eb3f\">\n",
              "    <div class=\"colab-df-container\">\n",
              "      <div>\n",
              "<style scoped>\n",
              "    .dataframe tbody tr th:only-of-type {\n",
              "        vertical-align: middle;\n",
              "    }\n",
              "\n",
              "    .dataframe tbody tr th {\n",
              "        vertical-align: top;\n",
              "    }\n",
              "\n",
              "    .dataframe thead th {\n",
              "        text-align: right;\n",
              "    }\n",
              "</style>\n",
              "<table border=\"1\" class=\"dataframe\">\n",
              "  <thead>\n",
              "    <tr style=\"text-align: right;\">\n",
              "      <th></th>\n",
              "      <th>Close</th>\n",
              "      <th>Predictions</th>\n",
              "    </tr>\n",
              "    <tr>\n",
              "      <th>Datetime</th>\n",
              "      <th></th>\n",
              "      <th></th>\n",
              "    </tr>\n",
              "  </thead>\n",
              "  <tbody>\n",
              "    <tr>\n",
              "      <th>2022-12-02 12:30:00</th>\n",
              "      <td>94.434998</td>\n",
              "      <td>95.816162</td>\n",
              "    </tr>\n",
              "    <tr>\n",
              "      <th>2022-12-02 13:30:00</th>\n",
              "      <td>94.195000</td>\n",
              "      <td>95.804161</td>\n",
              "    </tr>\n",
              "    <tr>\n",
              "      <th>2022-12-02 14:30:00</th>\n",
              "      <td>94.195000</td>\n",
              "      <td>95.596809</td>\n",
              "    </tr>\n",
              "    <tr>\n",
              "      <th>2022-12-02 15:30:00</th>\n",
              "      <td>94.120003</td>\n",
              "      <td>95.569344</td>\n",
              "    </tr>\n",
              "    <tr>\n",
              "      <th>2022-12-05 09:30:00</th>\n",
              "      <td>92.684998</td>\n",
              "      <td>95.497490</td>\n",
              "    </tr>\n",
              "    <tr>\n",
              "      <th>...</th>\n",
              "      <td>...</td>\n",
              "      <td>...</td>\n",
              "    </tr>\n",
              "    <tr>\n",
              "      <th>2022-12-20 11:30:00</th>\n",
              "      <td>85.404999</td>\n",
              "      <td>86.069008</td>\n",
              "    </tr>\n",
              "    <tr>\n",
              "      <th>2022-12-20 12:30:00</th>\n",
              "      <td>85.589897</td>\n",
              "      <td>86.537277</td>\n",
              "    </tr>\n",
              "    <tr>\n",
              "      <th>2022-12-20 13:30:00</th>\n",
              "      <td>85.369904</td>\n",
              "      <td>86.742760</td>\n",
              "    </tr>\n",
              "    <tr>\n",
              "      <th>2022-12-20 14:30:00</th>\n",
              "      <td>85.285004</td>\n",
              "      <td>86.584694</td>\n",
              "    </tr>\n",
              "    <tr>\n",
              "      <th>2022-12-20 15:30:00</th>\n",
              "      <td>85.190002</td>\n",
              "      <td>86.492104</td>\n",
              "    </tr>\n",
              "  </tbody>\n",
              "</table>\n",
              "<p>88 rows × 2 columns</p>\n",
              "</div>\n",
              "      <button class=\"colab-df-convert\" onclick=\"convertToInteractive('df-2632ad63-b4e0-49ba-833b-77f81de4eb3f')\"\n",
              "              title=\"Convert this dataframe to an interactive table.\"\n",
              "              style=\"display:none;\">\n",
              "        \n",
              "  <svg xmlns=\"http://www.w3.org/2000/svg\" height=\"24px\"viewBox=\"0 0 24 24\"\n",
              "       width=\"24px\">\n",
              "    <path d=\"M0 0h24v24H0V0z\" fill=\"none\"/>\n",
              "    <path d=\"M18.56 5.44l.94 2.06.94-2.06 2.06-.94-2.06-.94-.94-2.06-.94 2.06-2.06.94zm-11 1L8.5 8.5l.94-2.06 2.06-.94-2.06-.94L8.5 2.5l-.94 2.06-2.06.94zm10 10l.94 2.06.94-2.06 2.06-.94-2.06-.94-.94-2.06-.94 2.06-2.06.94z\"/><path d=\"M17.41 7.96l-1.37-1.37c-.4-.4-.92-.59-1.43-.59-.52 0-1.04.2-1.43.59L10.3 9.45l-7.72 7.72c-.78.78-.78 2.05 0 2.83L4 21.41c.39.39.9.59 1.41.59.51 0 1.02-.2 1.41-.59l7.78-7.78 2.81-2.81c.8-.78.8-2.07 0-2.86zM5.41 20L4 18.59l7.72-7.72 1.47 1.35L5.41 20z\"/>\n",
              "  </svg>\n",
              "      </button>\n",
              "      \n",
              "  <style>\n",
              "    .colab-df-container {\n",
              "      display:flex;\n",
              "      flex-wrap:wrap;\n",
              "      gap: 12px;\n",
              "    }\n",
              "\n",
              "    .colab-df-convert {\n",
              "      background-color: #E8F0FE;\n",
              "      border: none;\n",
              "      border-radius: 50%;\n",
              "      cursor: pointer;\n",
              "      display: none;\n",
              "      fill: #1967D2;\n",
              "      height: 32px;\n",
              "      padding: 0 0 0 0;\n",
              "      width: 32px;\n",
              "    }\n",
              "\n",
              "    .colab-df-convert:hover {\n",
              "      background-color: #E2EBFA;\n",
              "      box-shadow: 0px 1px 2px rgba(60, 64, 67, 0.3), 0px 1px 3px 1px rgba(60, 64, 67, 0.15);\n",
              "      fill: #174EA6;\n",
              "    }\n",
              "\n",
              "    [theme=dark] .colab-df-convert {\n",
              "      background-color: #3B4455;\n",
              "      fill: #D2E3FC;\n",
              "    }\n",
              "\n",
              "    [theme=dark] .colab-df-convert:hover {\n",
              "      background-color: #434B5C;\n",
              "      box-shadow: 0px 1px 3px 1px rgba(0, 0, 0, 0.15);\n",
              "      filter: drop-shadow(0px 1px 2px rgba(0, 0, 0, 0.3));\n",
              "      fill: #FFFFFF;\n",
              "    }\n",
              "  </style>\n",
              "\n",
              "      <script>\n",
              "        const buttonEl =\n",
              "          document.querySelector('#df-2632ad63-b4e0-49ba-833b-77f81de4eb3f button.colab-df-convert');\n",
              "        buttonEl.style.display =\n",
              "          google.colab.kernel.accessAllowed ? 'block' : 'none';\n",
              "\n",
              "        async function convertToInteractive(key) {\n",
              "          const element = document.querySelector('#df-2632ad63-b4e0-49ba-833b-77f81de4eb3f');\n",
              "          const dataTable =\n",
              "            await google.colab.kernel.invokeFunction('convertToInteractive',\n",
              "                                                     [key], {});\n",
              "          if (!dataTable) return;\n",
              "\n",
              "          const docLinkHtml = 'Like what you see? Visit the ' +\n",
              "            '<a target=\"_blank\" href=https://colab.research.google.com/notebooks/data_table.ipynb>data table notebook</a>'\n",
              "            + ' to learn more about interactive tables.';\n",
              "          element.innerHTML = '';\n",
              "          dataTable['output_type'] = 'display_data';\n",
              "          await google.colab.output.renderOutput(dataTable, element);\n",
              "          const docLink = document.createElement('div');\n",
              "          docLink.innerHTML = docLinkHtml;\n",
              "          element.appendChild(docLink);\n",
              "        }\n",
              "      </script>\n",
              "    </div>\n",
              "  </div>\n",
              "  "
            ]
          },
          "metadata": {},
          "execution_count": 42
        }
      ]
    },
    {
      "cell_type": "markdown",
      "source": [
        "RMSE is significantly lower with this resolution, probably as the volatility for the price is lower with less time between datapoints. Strangely, the model was pretty consistently guessing above the true value of the stock price, but its guesses were somewhat accurate in terms of direction (will the price be higher or lower than previously), so it may still have value for trading purposes."
      ],
      "metadata": {
        "id": "isnat52xdOF0"
      }
    },
    {
      "cell_type": "markdown",
      "source": [
        "## Conclusion"
      ],
      "metadata": {
        "id": "ShOx3rg1eBHy"
      }
    },
    {
      "cell_type": "markdown",
      "source": [
        "Long Term Short Memory (LTSM) models are effective at predicting time series data, and therefore are directly applicable to stock market price graphs. I experimented with a few model configurations to get better valid acc, and I looked into model performance at different data resolutions. I found that the approach to predicition appears relatively agnostic to time interval between datapoints, so this tool could be useful for different styles of stock trading (intraday, day and long term)."
      ],
      "metadata": {
        "id": "0BolpT_-eECv"
      }
    }
  ]
}